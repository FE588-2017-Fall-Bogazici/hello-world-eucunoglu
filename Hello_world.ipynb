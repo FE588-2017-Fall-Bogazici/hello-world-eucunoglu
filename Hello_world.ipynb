{
 "cells": [
  {
   "cell_type": "code",
   "execution_count": 2,
   "metadata": {
    "scrolled": false
   },
   "outputs": [
    {
     "name": "stdout",
     "output_type": "stream",
     "text": [
      "Emre Uçunoğlu\n"
     ]
    }
   ],
   "source": [
    "print ('Emre Uçunoğlu')\n"
   ]
  },
  {
   "cell_type": "code",
   "execution_count": 23,
   "metadata": {},
   "outputs": [
    {
     "name": "stdout",
     "output_type": "stream",
     "text": [
      "0.10 -> -3.69\n",
      "0.20 -> -3.36\n",
      "0.30 -> -3.01\n",
      "0.40 -> -2.6399999999999997\n",
      "0.50 -> -2.25\n",
      "0.60 -> -1.8400000000000003\n",
      "0.70 -> -1.4100000000000006\n",
      "0.80 -> -0.96\n",
      "0.90 -> -0.4900000000000002\n",
      "1.00 -> -8.881784197001252e-16\n"
     ]
    }
   ],
   "source": [
    "x =0.1\n",
    "\n",
    "for i in range (0,10):\n",
    "    \n",
    "    print (\"%3.2f\"%x,'->',x**2+3*x-4)\n",
    "    x +=0.1\n",
    "    "
   ]
  }
 ],
 "metadata": {
  "kernelspec": {
   "display_name": "Python 3",
   "language": "python",
   "name": "python3"
  },
  "language_info": {
   "codemirror_mode": {
    "name": "ipython",
    "version": 3
   },
   "file_extension": ".py",
   "mimetype": "text/x-python",
   "name": "python",
   "nbconvert_exporter": "python",
   "pygments_lexer": "ipython3",
   "version": "3.6.2"
  }
 },
 "nbformat": 4,
 "nbformat_minor": 2
}
