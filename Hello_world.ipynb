{
 "cells": [
  {
   "cell_type": "code",
   "execution_count": 2,
   "metadata": {
    "scrolled": false
   },
   "outputs": [
    {
     "name": "stdout",
     "output_type": "stream",
     "text": [
      "Emre Uçunoğlu\n"
     ]
    }
   ],
   "source": [
    "print ('Emre Uçunoğlu')\n"
   ]
  },
  {
   "cell_type": "code",
   "execution_count": 46,
   "metadata": {},
   "outputs": [
    {
     "name": "stdout",
     "output_type": "stream",
     "text": [
      "-------------------------\n",
      "| 0.10 | ->>> | -3.6900 |\n",
      "-------------------------\n",
      "| 0.20 | ->>> | -3.3600 |\n",
      "-------------------------\n",
      "| 0.30 | ->>> | -3.0100 |\n",
      "-------------------------\n",
      "| 0.40 | ->>> | -2.6400 |\n",
      "-------------------------\n",
      "| 0.50 | ->>> | -2.2500 |\n",
      "-------------------------\n",
      "| 0.60 | ->>> | -1.8400 |\n",
      "-------------------------\n",
      "| 0.70 | ->>> | -1.4100 |\n",
      "-------------------------\n",
      "| 0.80 | ->>> | -0.9600 |\n",
      "-------------------------\n",
      "| 0.90 | ->>> | -0.4900 |\n",
      "-------------------------\n",
      "| 1.00 | ->>> | -0.0000 |\n"
     ]
    }
   ],
   "source": [
    "x =0.1\n",
    "\n",
    "for i in range (0,10):\n",
    "    print ('-'*25)\n",
    "    print ('|',\"%3.2f\"% x,'|','->>>', '|',\"%1.4f\" % (x**2+3*x-4),'|')\n",
    "    x +=0.1\n",
    "    "
   ]
  },
  {
   "cell_type": "code",
   "execution_count": null,
   "metadata": {
    "collapsed": true
   },
   "outputs": [],
   "source": []
  }
 ],
 "metadata": {
  "kernelspec": {
   "display_name": "Python 3",
   "language": "python",
   "name": "python3"
  },
  "language_info": {
   "codemirror_mode": {
    "name": "ipython",
    "version": 3
   },
   "file_extension": ".py",
   "mimetype": "text/x-python",
   "name": "python",
   "nbconvert_exporter": "python",
   "pygments_lexer": "ipython3",
   "version": "3.6.2"
  }
 },
 "nbformat": 4,
 "nbformat_minor": 2
}
