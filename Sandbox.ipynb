{
 "cells": [
  {
   "cell_type": "code",
   "execution_count": 2,
   "metadata": {
    "scrolled": true
   },
   "outputs": [
    {
     "ename": "SyntaxError",
     "evalue": "invalid syntax (<ipython-input-2-6963ea3b9d6a>, line 1)",
     "output_type": "error",
     "traceback": [
      "\u001b[0;36m  File \u001b[0;32m\"<ipython-input-2-6963ea3b9d6a>\"\u001b[0;36m, line \u001b[0;32m1\u001b[0m\n\u001b[0;31m    git remote add origin https://github.com/FE588-2017-Fall-Bogazici/hello-world-eucunoglu.git\u001b[0m\n\u001b[0m             ^\u001b[0m\n\u001b[0;31mSyntaxError\u001b[0m\u001b[0;31m:\u001b[0m invalid syntax\n"
     ]
    }
   ],
   "source": [
    "\n",
    "x = 5\n",
    "    \n",
    "print (x)\n"
   ]
  },
  {
   "cell_type": "markdown",
   "metadata": {},
   "source": [
    "This is my result for the funtion\n",
    "\n",
    "$$ f(x)=5x $$\n",
    "\n"
   ]
  },
  {
   "cell_type": "code",
   "execution_count": 4,
   "metadata": {},
   "outputs": [
    {
     "data": {
      "text/plain": [
       "25"
      ]
     },
     "execution_count": 4,
     "metadata": {},
     "output_type": "execute_result"
    }
   ],
   "source": [
    "x*5"
   ]
  },
  {
   "cell_type": "markdown",
   "metadata": {},
   "source": [
    "$$ 3x^2+5x-7 $$"
   ]
  },
  {
   "cell_type": "code",
   "execution_count": 5,
   "metadata": {},
   "outputs": [
    {
     "name": "stdout",
     "output_type": "stream",
     "text": [
      "93\n"
     ]
    }
   ],
   "source": [
    "a = 3    \n",
    "b = 5\n",
    "c = -7\n",
    "    \n",
    "print (a*x**2+b*x+c)"
   ]
  },
  {
   "cell_type": "code",
   "execution_count": 8,
   "metadata": {},
   "outputs": [
    {
     "name": "stdout",
     "output_type": "stream",
     "text": [
      "Emre Emre Emre Emre Emre Emre Emre Emre Emre Emre Emre Emre Emre Emre Emre Emre Emre Emre Emre Emre Emre Emre Emre Emre Emre Emre Emre Emre Emre Emre Emre Emre Emre Emre Emre Emre Emre Emre Emre Emre Emre Emre Emre Emre Emre Emre Emre Emre Emre Emre \n"
     ]
    }
   ],
   "source": [
    "print ('Emre '* 50)"
   ]
  },
  {
   "cell_type": "code",
   "execution_count": 11,
   "metadata": {},
   "outputs": [
    {
     "name": "stdout",
     "output_type": "stream",
     "text": [
      "0\n",
      "1\n",
      "2\n",
      "3\n",
      "4\n",
      "5\n",
      "6\n",
      "7\n",
      "8\n",
      "9\n"
     ]
    }
   ],
   "source": [
    "for i in range (10):\n",
    "    print (i)"
   ]
  },
  {
   "cell_type": "code",
   "execution_count": 10,
   "metadata": {
    "scrolled": true
   },
   "outputs": [
    {
     "name": "stdout",
     "output_type": "stream",
     "text": [
      "3\n",
      "4\n",
      "5\n",
      "6\n",
      "7\n",
      "8\n",
      "9\n"
     ]
    }
   ],
   "source": [
    "for i in range (3,10):\n",
    "    print (i)"
   ]
  },
  {
   "cell_type": "code",
   "execution_count": 14,
   "metadata": {
    "scrolled": true
   },
   "outputs": [
    {
     "name": "stdout",
     "output_type": "stream",
     "text": [
      "0\n",
      "2\n",
      "4\n",
      "6\n",
      "8\n"
     ]
    }
   ],
   "source": [
    "for i in range (0,10,2):\n",
    "    print (i)"
   ]
  },
  {
   "cell_type": "code",
   "execution_count": 17,
   "metadata": {
    "scrolled": false
   },
   "outputs": [
    {
     "name": "stdout",
     "output_type": "stream",
     "text": [
      "-5\n",
      "43\n",
      "-4\n",
      "21\n",
      "-3\n",
      "5\n",
      "-2\n",
      "-5\n",
      "-1\n",
      "-9\n",
      "0\n",
      "-7\n",
      "1\n",
      "1\n",
      "2\n",
      "15\n",
      "3\n",
      "35\n",
      "4\n",
      "61\n",
      "5\n",
      "93\n"
     ]
    }
   ],
   "source": [
    "for x in range (-5,6):\n",
    "    print (x)\n",
    "    print (a*x**2+b*x+c)"
   ]
  },
  {
   "cell_type": "code",
   "execution_count": 50,
   "metadata": {
    "scrolled": true
   },
   "outputs": [
    {
     "name": "stdout",
     "output_type": "stream",
     "text": [
      "1 2 3 4 5 6 7 8 9 10 \n",
      "2 4 6 8 10 12 14 16 18 20 \n",
      "3 6 9 12 15 18 21 24 27 30 \n",
      "4 8 12 16 20 24 28 32 36 40 \n",
      "5 10 15 20 25 30 35 40 45 50 \n",
      "6 12 18 24 30 36 42 48 54 60 \n",
      "7 14 21 28 35 42 49 56 63 70 \n",
      "8 16 24 32 40 48 56 64 72 80 \n",
      "9 18 27 36 45 54 63 72 81 90 \n",
      "10 20 30 40 50 60 70 80 90 100 \n"
     ]
    }
   ],
   "source": [
    "for a in range (1,11):\n",
    "    for b in range (1,11):    \n",
    "        print  (a*b),\n",
    "    print('\\n'),\n",
    "     "
   ]
  },
  {
   "cell_type": "code",
   "execution_count": 82,
   "metadata": {},
   "outputs": [
    {
     "name": "stdout",
     "output_type": "stream",
     "text": [
      "(0, 0, 0)\n",
      "(1, 1, 1)\n",
      "(2, 4, 8)\n",
      "(3, 9, 27)\n",
      "(4, 16, 64)\n",
      "(5, 25, 125)\n",
      "(6, 36, 216)\n",
      "(7, 49, 343)\n",
      "(8, 64, 512)\n",
      "(9, 81, 729)\n",
      "(10, 100, 1000)\n"
     ]
    }
   ],
   "source": [
    "for a in  range (11):\n",
    "    print (a, a**2, a**3)"
   ]
  },
  {
   "cell_type": "markdown",
   "metadata": {},
   "source": [
    "$x_1 = 1$\n",
    "\n",
    "$x_t = 2x_{t-1}+1$"
   ]
  },
  {
   "cell_type": "code",
   "execution_count": 5,
   "metadata": {},
   "outputs": [
    {
     "name": "stdout",
     "output_type": "stream",
     "text": [
      "(1, 1)\n",
      "(2, 3)\n",
      "(3, 7)\n",
      "(4, 15)\n",
      "(5, 31)\n",
      "(6, 63)\n",
      "(7, 127)\n",
      "(8, 255)\n",
      "(9, 511)\n",
      "(10, 1023)\n"
     ]
    }
   ],
   "source": [
    "x = 1\n",
    "for i  in  range(10):\n",
    "        print ((i+1),x)\n",
    "            \n",
    "        x=2*x+1"
   ]
  },
  {
   "cell_type": "markdown",
   "metadata": {},
   "source": [
    "$$ F(0) = 0 $$"
   ]
  },
  {
   "cell_type": "code",
   "execution_count": 58,
   "metadata": {
    "scrolled": false
   },
   "outputs": [
    {
     "data": {
      "text/plain": [
       "[0, 1, 1, 2, 3, 5, 8, 13, 21, 34, 55]"
      ]
     },
     "execution_count": 58,
     "metadata": {},
     "output_type": "execute_result"
    }
   ],
   "source": [
    "def emre(n):\n",
    "    result = []\n",
    "    x,y = 0,1\n",
    "    while x<n:\n",
    "        result.append(x)\n",
    "        x,y=y,y+x\n",
    "    return result\n",
    "    \n",
    "emre (60)"
   ]
  },
  {
   "cell_type": "markdown",
   "metadata": {},
   "source": [
    "$x_n=x_n-1+x_(n-2)$"
   ]
  },
  {
   "cell_type": "code",
   "execution_count": 48,
   "metadata": {
    "scrolled": true
   },
   "outputs": [
    {
     "name": "stdout",
     "output_type": "stream",
     "text": [
      "x_0 = 1\n",
      "x_1 = 1\n",
      "x_2 = 2\n",
      "x_3 = 3\n",
      "x_4 = 5\n",
      "x_5 = 8\n",
      "x_6 = 13\n",
      "x_7 = 21\n",
      "x_8 = 34\n",
      "x_9 = 55\n",
      "x_10 = 89\n",
      "x_11 = 144\n",
      "x_12 = 233\n",
      "x_13 = 377\n",
      "x_14 = 610\n"
     ]
    }
   ],
   "source": [
    "a_1=1\n",
    "a_2=0\n",
    "\n",
    "N=15\n",
    "\n",
    "x=1\n",
    "if N>0:\n",
    "    print 'x'+'_'+str(0)+' =',x\n",
    "\n",
    "for i in range (1,N):\n",
    "    \n",
    "    x=a_2+a_1\n",
    "    \n",
    "    a_2=a_1\n",
    "    \n",
    "    a_1=x\n",
    "    \n",
    "    print 'x'+'_'+str(i)+' =',x\n",
    "    \n",
    "\n",
    "    \n",
    "    \n",
    "            "
   ]
  },
  {
   "cell_type": "markdown",
   "metadata": {},
   "source": [
    "$F(x)=3x^2+2x+3$"
   ]
  },
  {
   "cell_type": "code",
   "execution_count": 5,
   "metadata": {},
   "outputs": [
    {
     "name": "stdout",
     "output_type": "stream",
     "text": [
      "-1 4\n",
      "0 3\n"
     ]
    }
   ],
   "source": [
    "N=10\n",
    "\n",
    "a=3\n",
    "b=2\n",
    "c=3\n",
    "\n",
    "for x in range (-1,1):\n",
    "    \n",
    "    print x, a*x**2+b*x+c"
   ]
  },
  {
   "cell_type": "code",
   "execution_count": 81,
   "metadata": {
    "scrolled": true
   },
   "outputs": [
    {
     "name": "stdout",
     "output_type": "stream",
     "text": [
      "-1.0 4.0\n",
      "-0.9 3.63\n",
      "-0.8 3.32\n",
      "-0.7 3.07\n",
      "-0.6 2.88\n",
      "-0.5 2.75\n",
      "-0.4 2.68\n",
      "-0.3 2.67\n",
      "-0.2 2.72\n",
      "-0.1 2.83\n",
      "-0.0 3.0\n",
      "0.1 3.23\n",
      "0.2 3.52\n",
      "0.3 3.87\n",
      "0.4 4.28\n",
      "0.5 4.75\n",
      "0.6 5.28\n",
      "0.7 5.87\n",
      "0.8 6.52\n",
      "0.9 7.23\n",
      "1.0 8.0\n"
     ]
    }
   ],
   "source": [
    "def myrange (start,end,step):\n",
    "    while start <=end:\n",
    "        yield start\n",
    "        start += step\n",
    "        \n",
    "N=10\n",
    "\n",
    "a=3\n",
    "b=2\n",
    "c=3\n",
    "\n",
    "for x in myrange (-1,1,0.1):\n",
    "    \n",
    "    print round (x,2),round (a*x**2+b*x+c,2)\n",
    "    "
   ]
  },
  {
   "cell_type": "code",
   "execution_count": 58,
   "metadata": {},
   "outputs": [
    {
     "name": "stdout",
     "output_type": "stream",
     "text": [
      "-------------\n",
      "| -1.0 | 4.0 |\n",
      "-------------\n",
      "| -0.9 | 3.6 |\n",
      "-------------\n",
      "| -0.8 | 3.3 |\n",
      "-------------\n",
      "| -0.7 | 3.1 |\n",
      "-------------\n",
      "| -0.6 | 2.9 |\n",
      "-------------\n",
      "| -0.5 | 2.8 |\n",
      "-------------\n",
      "| -0.4 | 2.7 |\n",
      "-------------\n",
      "| -0.3 | 2.7 |\n",
      "-------------\n",
      "| -0.2 | 2.7 |\n",
      "-------------\n",
      "| -0.1 | 2.8 |\n",
      "-------------\n",
      "| 0.0 | 3.0 |\n",
      "-------------\n",
      "| 0.1 | 3.2 |\n",
      "-------------\n",
      "| 0.2 | 3.5 |\n",
      "-------------\n",
      "| 0.3 | 3.9 |\n",
      "-------------\n",
      "| 0.4 | 4.3 |\n",
      "-------------\n",
      "| 0.5 | 4.8 |\n",
      "-------------\n",
      "| 0.6 | 5.3 |\n",
      "-------------\n",
      "| 0.7 | 5.9 |\n",
      "-------------\n",
      "| 0.8 | 6.5 |\n",
      "-------------\n",
      "| 0.9 | 7.2 |\n",
      "-------------\n",
      "| 1.0 | 8.0 |\n"
     ]
    }
   ],
   "source": [
    "l = -1\n",
    "r = 1\n",
    "delta=0.1\n",
    "\n",
    "steps = (r-l)/delta+1\n",
    "\n",
    "a=3\n",
    "b=2\n",
    "c=3\n",
    "\n",
    "      \n",
    "        \n",
    "\n",
    "for i in range (0,int(steps)):\n",
    "    \n",
    "        \n",
    "        print ('-'*13)\n",
    "    \n",
    "        x = -1+i*delta\n",
    "    \n",
    "   \n",
    "        print'|', x, '|',round (a*x**2+b*x+c,1), '|'\n",
    "    "
   ]
  },
  {
   "cell_type": "code",
   "execution_count": 63,
   "metadata": {},
   "outputs": [
    {
     "name": "stdout",
     "output_type": "stream",
     "text": [
      "| -1.0 | 4.0 |\n",
      "| -0.9 | 3.63 |\n",
      "| -0.8 | 3.32 |\n",
      "| -0.7 | 3.07 |\n",
      "| -0.6 | 2.88 |\n",
      "| -0.5 | 2.75 |\n",
      "| -0.4 | 2.68 |\n",
      "| -0.3 | 2.67 |\n",
      "| -0.2 | 2.72 |\n",
      "| -0.1 | 2.83 |\n",
      "| 0.0 | 3.0 |\n",
      "| 0.1 | 3.23 |\n",
      "| 0.2 | 3.52 |\n",
      "| 0.3 | 3.87 |\n",
      "| 0.4 | 4.28 |\n",
      "| 0.5 | 4.75 |\n",
      "| 0.6 | 5.28 |\n",
      "| 0.7 | 5.87 |\n",
      "| 0.8 | 6.52 |\n",
      "| 0.9 | 7.23 |\n"
     ]
    }
   ],
   "source": [
    "def f(x):\n",
    "    return round (3*x**2+2*x+3,2)\n",
    "l=-1\n",
    "r=1\n",
    "delta = 0.1\n",
    "steps = (r-l)/delta\n",
    "\n",
    "for i in range (0,int(steps)):\n",
    "    x = l+i*delta\n",
    "    print'|', x, '|', f(x), '|' \n"
   ]
  },
  {
   "cell_type": "code",
   "execution_count": 99,
   "metadata": {
    "scrolled": true
   },
   "outputs": [
    {
     "name": "stdout",
     "output_type": "stream",
     "text": [
      "1 112.0\n",
      "2 12544.0\n",
      "3 1404928.0\n",
      "4 157351936.0\n",
      "5 17623416832.0\n",
      "6 1.97382268518e+12\n",
      "7 2.21068140741e+14\n",
      "8 2.47596317629e+16\n",
      "9 2.77307875745e+18\n"
     ]
    }
   ],
   "source": [
    "def f(r,T,S_0):\n",
    "    return (S_0*(1+r))**T\n",
    "\n",
    "\n",
    "interest_rate = 0.12\n",
    "T = 10\n",
    "S_0=100\n",
    "\n",
    "l=1\n",
    "r=T\n",
    "delta = 1\n",
    "steps = (r-l)/delta\n",
    "\n",
    "for i in range (0,int(steps)):\n",
    "    T = l+i*delta\n",
    "\n",
    "    \n",
    "    print T, round (f(interest_rate,T,S_0),2)\n",
    "    "
   ]
  },
  {
   "cell_type": "markdown",
   "metadata": {},
   "source": [
    "Arrays, List"
   ]
  },
  {
   "cell_type": "code",
   "execution_count": 102,
   "metadata": {
    "scrolled": true
   },
   "outputs": [
    {
     "name": "stdout",
     "output_type": "stream",
     "text": [
      "Veli\n",
      "Ali\n",
      "4\n",
      "Veli\n",
      "4\n",
      "Fatma\n",
      "4\n",
      "Asli\n",
      "4\n"
     ]
    }
   ],
   "source": [
    "a = [1,2,5,6,7]\n",
    "names =['Ali','Veli','Fatma','Asli']\n",
    "\n",
    "print (names[1])\n",
    "\n",
    "for e in names:\n",
    "    print(e)\n",
    "    \n",
    "    print(len(names))"
   ]
  },
  {
   "cell_type": "code",
   "execution_count": 16,
   "metadata": {
    "scrolled": false
   },
   "outputs": [
    {
     "name": "stdout",
     "output_type": "stream",
     "text": [
      "Asli\n",
      "Fatma\n",
      "Veli\n",
      "Ali\n"
     ]
    }
   ],
   "source": [
    "a = [1,2,5,6,7]\n",
    "names =['Ali','Veli','Fatma','Asli']\n",
    "\n",
    "\n",
    "for i in range (len(names)-1,-1,-1):\n",
    "        print (names[i])\n",
    "\n"
   ]
  },
  {
   "cell_type": "code",
   "execution_count": 17,
   "metadata": {
    "scrolled": true
   },
   "outputs": [
    {
     "name": "stdout",
     "output_type": "stream",
     "text": [
      "Asli\n",
      "Fatma\n",
      "Veli\n",
      "Ali\n"
     ]
    }
   ],
   "source": [
    "for i in reversed (names):\n",
    "    print i"
   ]
  },
  {
   "cell_type": "code",
   "execution_count": 81,
   "metadata": {
    "scrolled": false
   },
   "outputs": [
    {
     "name": "stdout",
     "output_type": "stream",
     "text": [
      "mean = 3.5195\n",
      "variance = 6.78206791667\n"
     ]
    }
   ],
   "source": [
    "a = [1,2,5,6,7,0.117]\n",
    "\n",
    "s1= 0.0\n",
    "s2= 0.0\n",
    "\n",
    "for i in a:\n",
    "    s1 +=  i\n",
    "mean = s1/len(a)\n",
    "\n",
    "for b in a:\n",
    "    s2 += (b-mean)**2\n",
    "    \n",
    "variance = s2/len(a)\n",
    "\n",
    "print 'mean =',mean\n",
    "print 'variance =',variance\n"
   ]
  },
  {
   "cell_type": "code",
   "execution_count": 21,
   "metadata": {},
   "outputs": [
    {
     "name": "stdout",
     "output_type": "stream",
     "text": [
      "55 65\n",
      "55 75\n",
      "55 85\n",
      "55 95\n",
      "55 105\n",
      "55 115\n",
      "55 125\n",
      "55 135\n",
      "55 145\n",
      "55 155\n",
      "55 165\n"
     ]
    }
   ],
   "source": [
    "s1 = 0\n",
    "s2 = 0\n",
    "for i in range (0,11):\n",
    "    s1 +=i\n",
    "    \n",
    "for j in range (0,11):\n",
    "    s2 +=i\n",
    "    \n",
    "    print s1,s1+s2"
   ]
  },
  {
   "cell_type": "code",
   "execution_count": 2,
   "metadata": {
    "scrolled": true
   },
   "outputs": [
    {
     "name": "stdout",
     "output_type": "stream",
     "text": [
      "0.117\n"
     ]
    }
   ],
   "source": [
    "a = [50,1,2,5,6,7,0.117]\n",
    "mn = a[0]\n",
    "\n",
    "\n",
    "for i in range (1,len(a)):\n",
    "    if a[i]<mn:\n",
    "        mn = a[i]\n",
    "        \n",
    "print mn"
   ]
  },
  {
   "cell_type": "code",
   "execution_count": 78,
   "metadata": {
    "collapsed": true
   },
   "outputs": [],
   "source": [
    "a.reverse()"
   ]
  },
  {
   "cell_type": "markdown",
   "metadata": {},
   "source": [
    "Array yapcaz elementleri sayacak"
   ]
  },
  {
   "cell_type": "code",
   "execution_count": 26,
   "metadata": {},
   "outputs": [
    {
     "name": "stdout",
     "output_type": "stream",
     "text": [
      "(5, 1)\n",
      "(3, 2)\n",
      "(1, 2)\n",
      "(1, 2)\n",
      "(6, 1)\n",
      "(3, 2)\n",
      "(2, 1)\n"
     ]
    }
   ],
   "source": [
    "a = [5,3,1,1,6,3,2]\n",
    "\n",
    "\n",
    "#ua = [5,3,1,6,2] bunu yapınca unique geliyor\n",
    "ua = a\n",
    "\n",
    "\n",
    "for i in ua:\n",
    "    s = 0\n",
    "    for j in a:\n",
    "        if i==j:\n",
    "            s = s+1\n",
    "    print (i,s)\n",
    "\n",
    "\n",
    "\n",
    "\n",
    "\n"
   ]
  },
  {
   "cell_type": "code",
   "execution_count": 26,
   "metadata": {},
   "outputs": [
    {
     "name": "stdout",
     "output_type": "stream",
     "text": [
      "(5, 1)\n",
      "(3, 2)\n",
      "(1, 2)\n",
      "(1, 2)\n",
      "(6, 1)\n",
      "(3, 2)\n",
      "(2, 1)\n"
     ]
    }
   ],
   "source": [
    "a = [5,3,1,1,6,3,2]\n",
    "\n",
    "\n",
    "#ua = [5,3,1,6,2] bunu yapınca unique geliyor\n",
    "#ua = a bunu da yapınca her elementi birden fazla getirip sayıyor\n",
    "\n",
    "\n",
    "\n",
    "for i in ua:\n",
    "    s = 0\n",
    "    for j in a:\n",
    "        if i==j:\n",
    "            s = s+1\n",
    "    print (i,s)\n",
    "\n",
    "\n",
    "\n",
    "\n",
    "\n"
   ]
  },
  {
   "cell_type": "code",
   "execution_count": 29,
   "metadata": {
    "scrolled": false
   },
   "outputs": [
    {
     "name": "stdout",
     "output_type": "stream",
     "text": [
      "(5, 1)\n",
      "(3, 2)\n",
      "(1, 2)\n",
      "(6, 1)\n",
      "(2, 1)\n"
     ]
    }
   ],
   "source": [
    "a = [5,3,1,1,6,3,2]\n",
    "\n",
    "ua = []\n",
    "for j in a: \n",
    "    found = False \n",
    "    for i in ua:\n",
    "        if i==j:\n",
    "            found = True;\n",
    "            break;\n",
    "    if not found:\n",
    "        ua.append(j)\n",
    "\n",
    "\n",
    "#ua = [5,3,1,6,2] bunu yapınca unique geliyor\n",
    "#ua = a bunu da yapınca her elementi birden fazla getirip sayıyor\n",
    "\n",
    "\n",
    "\n",
    "for i in ua:\n",
    "    s = 0\n",
    "    for j in a:\n",
    "        if i==j:\n",
    "            s = s+1\n",
    "    print (i,s)\n",
    "\n",
    "\n",
    "\n",
    "\n",
    "\n"
   ]
  },
  {
   "cell_type": "markdown",
   "metadata": {},
   "source": [
    "a = [5,3,1,1,6,3,2]\n",
    "\n",
    "ca = [0,5,8,9,10,16,19,21]"
   ]
  },
  {
   "cell_type": "code",
   "execution_count": 55,
   "metadata": {},
   "outputs": [
    {
     "name": "stdout",
     "output_type": "stream",
     "text": [
      "[0, 5, 8, 9, 10, 16, 19, 21]\n"
     ]
    }
   ],
   "source": [
    "a = [5,3,1,1,6,3,2]\n",
    "x = 0\n",
    "ca =[0]\n",
    "#ca[0,5,8,9,10,16,19,21]\n",
    "\n",
    "for i in a:\n",
    "    x=x+i\n",
    "    \n",
    "    ca.append(x)    \n",
    "        \n",
    "print ca\n"
   ]
  },
  {
   "cell_type": "code",
   "execution_count": 4,
   "metadata": {},
   "outputs": [
    {
     "name": "stdout",
     "output_type": "stream",
     "text": [
      "[3, 6, 7, 2, 2, 7, 6, 3]\n"
     ]
    }
   ],
   "source": [
    "a = [3,6,7,2]\n",
    "\n",
    "b = a\n",
    "\n",
    "#oa= [3,6,7,2,2,7,6,3]\n",
    "\n",
    "for i in range (len(a)-1,-1,-1):\n",
    "    b.append(a[i])\n",
    "    \n",
    "print b\n"
   ]
  },
  {
   "cell_type": "code",
   "execution_count": 11,
   "metadata": {},
   "outputs": [
    {
     "data": {
      "text/plain": [
       "[3, 6, 7, 2, 2, 7, 6, 3]"
      ]
     },
     "execution_count": 11,
     "metadata": {},
     "output_type": "execute_result"
    }
   ],
   "source": [
    "a = [3,6,7,2]\n",
    "\n",
    "a+list(reversed(a))"
   ]
  },
  {
   "cell_type": "code",
   "execution_count": 10,
   "metadata": {},
   "outputs": [
    {
     "name": "stdout",
     "output_type": "stream",
     "text": [
      "[3, 6, 7, 2, 2, 7, 6, 3]\n"
     ]
    }
   ],
   "source": [
    "a = [3,6,7,2]\n",
    "\n",
    "b = list(a)\n",
    "\n",
    "#oa= [3,6,7,2,2,7,6,3]\n",
    "\n",
    "for i in range (1,len(a)+1):\n",
    "    b.append(a[-i])\n",
    "    \n",
    "print b\n"
   ]
  },
  {
   "cell_type": "code",
   "execution_count": 8,
   "metadata": {},
   "outputs": [
    {
     "name": "stdout",
     "output_type": "stream",
     "text": [
      "[3, 6, 7, 2, 2, 7, 6, 3]\n"
     ]
    }
   ],
   "source": [
    "a = [3,6,7,2]\n",
    "\n",
    "b = a\n",
    "\n",
    "#oa= [3,6,7,2,2,7,6,3]\n",
    "\n",
    "for i in reversed (a):\n",
    "    b.append (i)\n",
    "    \n",
    "print b"
   ]
  },
  {
   "cell_type": "markdown",
   "metadata": {},
   "source": [
    "Input yapmak için"
   ]
  },
  {
   "cell_type": "code",
   "execution_count": 1,
   "metadata": {
    "scrolled": true
   },
   "outputs": [
    {
     "name": "stdout",
     "output_type": "stream",
     "text": [
      "Enter Price12\n",
      "Enter Capital12\n",
      "Number of Item\n",
      "1\n"
     ]
    }
   ],
   "source": [
    "p = raw_input('Enter Price')\n",
    "c = raw_input('Enter Capital')\n",
    "print 'Number of Item' \n",
    "print int(c)/int(p)\n"
   ]
  },
  {
   "cell_type": "code",
   "execution_count": 33,
   "metadata": {},
   "outputs": [
    {
     "ename": "KeyboardInterrupt",
     "evalue": "",
     "output_type": "error",
     "traceback": [
      "\u001b[0;31m---------------------------------------------------------------------------\u001b[0m",
      "\u001b[0;31mKeyboardInterrupt\u001b[0m                         Traceback (most recent call last)",
      "\u001b[0;32m<ipython-input-33-6bfb4dec0266>\u001b[0m in \u001b[0;36m<module>\u001b[0;34m()\u001b[0m\n\u001b[0;32m----> 1\u001b[0;31m \u001b[0mp\u001b[0m \u001b[0;34m=\u001b[0m \u001b[0mint\u001b[0m\u001b[0;34m(\u001b[0m\u001b[0mraw_input\u001b[0m\u001b[0;34m(\u001b[0m\u001b[0;34m'Enter 1st'\u001b[0m\u001b[0;34m)\u001b[0m\u001b[0;34m)\u001b[0m\u001b[0;34m\u001b[0m\u001b[0m\n\u001b[0m\u001b[1;32m      2\u001b[0m \u001b[0mc\u001b[0m \u001b[0;34m=\u001b[0m \u001b[0mint\u001b[0m\u001b[0;34m(\u001b[0m\u001b[0mraw_input\u001b[0m\u001b[0;34m(\u001b[0m\u001b[0;34m'Enter 2nd'\u001b[0m\u001b[0;34m)\u001b[0m\u001b[0;34m)\u001b[0m\u001b[0;34m\u001b[0m\u001b[0m\n\u001b[1;32m      3\u001b[0m \u001b[0;34m\u001b[0m\u001b[0m\n\u001b[1;32m      4\u001b[0m \u001b[0;32mprint\u001b[0m \u001b[0mp\u001b[0m\u001b[0;34m+\u001b[0m\u001b[0mc\u001b[0m\u001b[0;34m\u001b[0m\u001b[0m\n\u001b[1;32m      5\u001b[0m \u001b[0;32mprint\u001b[0m \u001b[0mc\u001b[0m\u001b[0;34m-\u001b[0m\u001b[0mp\u001b[0m\u001b[0;34m\u001b[0m\u001b[0m\n",
      "\u001b[0;32m/Users/emreahmetu/anaconda/lib/python2.7/site-packages/ipykernel/kernelbase.pyc\u001b[0m in \u001b[0;36mraw_input\u001b[0;34m(self, prompt)\u001b[0m\n\u001b[1;32m    687\u001b[0m             \u001b[0mself\u001b[0m\u001b[0;34m.\u001b[0m\u001b[0m_parent_ident\u001b[0m\u001b[0;34m,\u001b[0m\u001b[0;34m\u001b[0m\u001b[0m\n\u001b[1;32m    688\u001b[0m             \u001b[0mself\u001b[0m\u001b[0;34m.\u001b[0m\u001b[0m_parent_header\u001b[0m\u001b[0;34m,\u001b[0m\u001b[0;34m\u001b[0m\u001b[0m\n\u001b[0;32m--> 689\u001b[0;31m             \u001b[0mpassword\u001b[0m\u001b[0;34m=\u001b[0m\u001b[0mFalse\u001b[0m\u001b[0;34m,\u001b[0m\u001b[0;34m\u001b[0m\u001b[0m\n\u001b[0m\u001b[1;32m    690\u001b[0m         )\n\u001b[1;32m    691\u001b[0m \u001b[0;34m\u001b[0m\u001b[0m\n",
      "\u001b[0;32m/Users/emreahmetu/anaconda/lib/python2.7/site-packages/ipykernel/kernelbase.pyc\u001b[0m in \u001b[0;36m_input_request\u001b[0;34m(self, prompt, ident, parent, password)\u001b[0m\n\u001b[1;32m    717\u001b[0m             \u001b[0;32mexcept\u001b[0m \u001b[0mKeyboardInterrupt\u001b[0m\u001b[0;34m:\u001b[0m\u001b[0;34m\u001b[0m\u001b[0m\n\u001b[1;32m    718\u001b[0m                 \u001b[0;31m# re-raise KeyboardInterrupt, to truncate traceback\u001b[0m\u001b[0;34m\u001b[0m\u001b[0;34m\u001b[0m\u001b[0m\n\u001b[0;32m--> 719\u001b[0;31m                 \u001b[0;32mraise\u001b[0m \u001b[0mKeyboardInterrupt\u001b[0m\u001b[0;34m\u001b[0m\u001b[0m\n\u001b[0m\u001b[1;32m    720\u001b[0m             \u001b[0;32melse\u001b[0m\u001b[0;34m:\u001b[0m\u001b[0;34m\u001b[0m\u001b[0m\n\u001b[1;32m    721\u001b[0m                 \u001b[0;32mbreak\u001b[0m\u001b[0;34m\u001b[0m\u001b[0m\n",
      "\u001b[0;31mKeyboardInterrupt\u001b[0m: "
     ]
    }
   ],
   "source": [
    "p = int(raw_input('Enter 1st'))\n",
    "c = int(raw_input('Enter 2nd'))\n",
    "\n",
    "print p+c\n",
    "print c-p\n",
    "print p*c"
   ]
  },
  {
   "cell_type": "code",
   "execution_count": 38,
   "metadata": {
    "scrolled": true
   },
   "outputs": [
    {
     "name": "stdout",
     "output_type": "stream",
     "text": [
      "Enter 1st4\n",
      "Enter 2nd3\n",
      "1\n",
      "1.33333333333\n"
     ]
    }
   ],
   "source": [
    "p = float(raw_input(''))\n",
    "c = float(raw_input(''))\n",
    "\n",
    "print int (p//c)\n",
    "print float (p/c)"
   ]
  },
  {
   "cell_type": "code",
   "execution_count": 52,
   "metadata": {
    "scrolled": false
   },
   "outputs": [
    {
     "name": "stdout",
     "output_type": "stream",
     "text": [
      "-4\n",
      "Sıfırdan büyük gir!\n"
     ]
    }
   ],
   "source": [
    "c = float(raw_input(''))\n",
    "if c <21 and c>0:\n",
    "    for i in range (0,int(c+1)):\n",
    "        print float(i**2)\n",
    "else:\n",
    "    print 'Sıfırdan büyük gir!'"
   ]
  },
  {
   "cell_type": "code",
   "execution_count": 69,
   "metadata": {
    "scrolled": true
   },
   "outputs": [
    {
     "name": "stdout",
     "output_type": "stream",
     "text": [
      "2000\n",
      "Leap\n"
     ]
    }
   ],
   "source": [
    "c = int((raw_input('')))\n",
    "if c <10000 and c>1899:\n",
    "    if c%400== 0 or c%4==0:\n",
    "        print 'Leap'\n",
    "    else:\n",
    "        print 'False'\n",
    "        \n",
    "        \n",
    "        "
   ]
  },
  {
   "cell_type": "code",
   "execution_count": 82,
   "metadata": {
    "scrolled": true
   },
   "outputs": [
    {
     "name": "stdout",
     "output_type": "stream",
     "text": [
      "1\n",
      "[0]\n",
      "[0, 1]\n"
     ]
    }
   ],
   "source": [
    "c = int((raw_input('')))\n",
    "a = []\n",
    "for i in range (0,c+1):\n",
    "    a.append(i)\n",
    "    print a"
   ]
  },
  {
   "cell_type": "code",
   "execution_count": 85,
   "metadata": {
    "collapsed": true
   },
   "outputs": [],
   "source": [
    "def fun(x):\n",
    "    print x,\n",
    "    x=map(fun,range(10))"
   ]
  },
  {
   "cell_type": "code",
   "execution_count": 86,
   "metadata": {},
   "outputs": [
    {
     "name": "stdout",
     "output_type": "stream",
     "text": [
      "['insert', '0', '5']\n"
     ]
    }
   ],
   "source": [
    "N =int(raw_input())\n",
    "L =[]\n",
    "\n",
    "for i in range (N):\n",
    "    s = raw_input()\n",
    "    items = s.split(' ')\n",
    "    cmd =items[0]\n",
    "    if cmd == 'insert':\n",
    "        pos=int()\n",
    "        num=\n",
    "\n",
    "s = 'insert 0 5'\n",
    "u=s.split (' ')\n",
    "print (u)"
   ]
  },
  {
   "cell_type": "code",
   "execution_count": 101,
   "metadata": {},
   "outputs": [
    {
     "name": "stdout",
     "output_type": "stream",
     "text": [
      "4\n",
      "1\n",
      "2\n",
      "3\n",
      "4\n"
     ]
    }
   ],
   "source": [
    "N =int(raw_input())\n",
    "\n",
    "s 0 raw_input ()\n",
    "l = s.split('')\n",
    "l2 =(int(i) for i in l[0,N+1])\n",
    "\n",
    "for i in range (1,N+1):\n",
    "    print i\n",
    "    \n",
    "    \n",
    "\n"
   ]
  },
  {
   "cell_type": "markdown",
   "metadata": {
    "scrolled": true
   },
   "source": [
    "## a0=0\n",
    "a = [2,6,3,1,4,8,3,5,5]\n",
    "\n",
    "prev =  a0\n",
    "inc  =  []\n",
    "dec  =  []\n",
    "for i in a:\n",
    "    inc.append(i>prev)\n",
    "    dec.append(i<prev)\n",
    "    prev=i\n",
    "    \n",
    "print 'INC=',(inc)\n",
    "print 'DEC=',(dec)\n",
    "        \n",
    "        \n",
    "    "
   ]
  },
  {
   "cell_type": "markdown",
   "metadata": {},
   "source": [
    "### import random kullanarak generate random walk in an array"
   ]
  },
  {
   "cell_type": "code",
   "execution_count": 1,
   "metadata": {
    "scrolled": true
   },
   "outputs": [
    {
     "name": "stdout",
     "output_type": "stream",
     "text": [
      "European\n",
      "Call=  15.2577668904 \n",
      "Put =  5.00489731067\n",
      "Asian\n",
      "Call=  8.20274106605 \n",
      "Put =  3.23269003618\n",
      "Lookback\n",
      "Call=  26.0652184959 \n",
      "Put =  12.4477862746\n",
      "FloatingLookback\n",
      "Call=  22.9844884751 \n",
      "Put =  15.3743711319\n"
     ]
    }
   ],
   "source": [
    "import numpy as np\n",
    "\n",
    "def European(Param, S0=1., T=1., Strike=1.,N=10000 ):\n",
    "    '''\n",
    "    Price_Call, Price_Put = European(Param, S0, T, Strike,N)\n",
    "    \n",
    "        Param: Market parameters, a catalog with fields \n",
    "            Param['InterestRate'] : Yearly risk free interest rate\n",
    "            Param['Volatility'] : \n",
    "        S0 : Initial asset price\n",
    "        T  : Time Period (in Years)\n",
    "        Strike: Strike Price\n",
    "        N : Number of Monte Carlo Samples\n",
    "    '''\n",
    "    W = np.sqrt(T)*np.random.standard_normal(N)\n",
    "    ST = S0*np.exp(T*(Param['InterestRate']-0.5*Param['Volatility']**2) + Param['Volatility']*W)\n",
    "    CT = np.maximum(ST-Strike, 0)\n",
    "    PT = np.maximum(Strike-ST, 0)\n",
    "\n",
    "    Price_C = CT.mean()*np.exp(-Param['InterestRate']*T)\n",
    "    Price_P = PT.mean()*np.exp(-Param['InterestRate']*T)\n",
    "    return Price_C, Price_P\n",
    "\n",
    "\n",
    "\n",
    "def Asian(Param, S0=1., T=1., Strike=1., Steps=12, N=10000 ):\n",
    "    '''\n",
    "    Price_Call, Price_Put = Asian(Param, S0, T, Strike, Steps, N)\n",
    "    \n",
    "        Param: Market parameters, a catalog with fields \n",
    "            Param['InterestRate'] : Yearly risk free interest rate\n",
    "            Param['Volatility'] : \n",
    "        S0 : Initial asset price\n",
    "        T  : Time Period (in Years)\n",
    "        Strike: Strike Price\n",
    "        Steps : Number of steps to monitor the stock price\n",
    "        N : Number of Monte Carlo Samples\n",
    "    '''\n",
    "    \n",
    "    Tstep = T/Steps\n",
    "    Smean= np.zeros(N) \n",
    "    St = S0*np.ones(N)\n",
    "    \n",
    "    for t in range(Steps):\n",
    "        W = np.sqrt(Tstep)*np.random.standard_normal(N)\n",
    "        St = St*np.exp(Tstep*(Param['InterestRate']-0.5*Param['Volatility']**2) + Param['Volatility']*W)\n",
    "        i = t+1\n",
    "        Smean = (i-1)*Smean/i + St/i\n",
    "        \n",
    "    CT = np.maximum(Smean-Strike, 0)\n",
    "    PT = np.maximum(Strike-Smean, 0)\n",
    "\n",
    "    Price_C = CT.mean()*np.exp(-Param['InterestRate']*T)\n",
    "    Price_P = PT.mean()*np.exp(-Param['InterestRate']*T)\n",
    "    return Price_C, Price_P\n",
    "\n",
    "\n",
    "\n",
    "\n",
    "def Lookback(Param, S0=1., T=1., Strike=1., Steps=12, N=10000 ):\n",
    "    '''\n",
    "    Price_Call, Price_Put = Lookback(Param, S0, T, Strike, Steps, N)\n",
    "    \n",
    "        Param: Market parameters, a catalog with fields \n",
    "            Param['InterestRate'] : Yearly risk free interest rate\n",
    "            Param['Volatility'] : \n",
    "        S0 : Initial asset price\n",
    "        T  : Time Period (in Years)\n",
    "        Strike: Strike Price\n",
    "        Steps : Number of steps to monitor the stock price\n",
    "        N : Number of Monte Carlo Samples\n",
    "    '''\n",
    "    \n",
    "    Tstep = T/Steps\n",
    "    Smax = S0*np.ones(N)\n",
    "    Smin = S0*np.ones(N)\n",
    "    St = S0*np.ones(N)\n",
    "    \n",
    "    for t in range(Steps):\n",
    "        W = np.sqrt(Tstep)*np.random.standard_normal(N)\n",
    "        St = St*np.exp(Tstep*(Param['InterestRate']-0.5*Param['Volatility']**2) + Param['Volatility']*W)\n",
    "        Smax = np.maximum(St, Smax)\n",
    "        Smin = np.minimum(St, Smin)\n",
    "\n",
    "    CT = np.maximum(Smax-Strike, 0)\n",
    "    PT = np.maximum(Strike-Smin, 0)\n",
    "\n",
    "    Price_C = CT.mean()*np.exp(-Param['InterestRate']*T)\n",
    "    Price_P = PT.mean()*np.exp(-Param['InterestRate']*T)\n",
    "    return Price_C, Price_P\n",
    "\n",
    "\n",
    "def FloatingLookback(Param, S0=1., T=1., Steps=12, N=10000 ):\n",
    "    '''\n",
    "    Price_Call, Price_Put = FloatingLookback(Param, S0, T, Steps, N)\n",
    "    \n",
    "        Param: Market parameters, a catalog with fields \n",
    "            Param['InterestRate'] : Yearly risk free interest rate\n",
    "            Param['Volatility'] : \n",
    "        S0 : Initial asset price\n",
    "        T  : Time Period (in Years)\n",
    "        Steps : Number of steps to monitor the stock price\n",
    "        N : Number of Monte Carlo Samples\n",
    "    '''\n",
    "    \n",
    "    Tstep = T/Steps\n",
    "    Smax = S0*np.ones(N)\n",
    "    Smin = S0*np.ones(N)\n",
    "    St = S0*np.ones(N)\n",
    "    \n",
    "    for t in range(Steps):\n",
    "        W = np.sqrt(Tstep)*np.random.standard_normal(N)\n",
    "        St = St*np.exp(Tstep*(Param['InterestRate']-0.5*Param['Volatility']**2) + Param['Volatility']*W)\n",
    "        Smax = np.maximum(St, Smax)\n",
    "        Smin = np.minimum(St, Smin)\n",
    "\n",
    "    CT = np.maximum(St-Smin, 0)\n",
    "    PT = np.maximum(Smax-St, 0)\n",
    "\n",
    "    Price_C = CT.mean()*np.exp(-Param['InterestRate']*T)\n",
    "    Price_P = PT.mean()*np.exp(-Param['InterestRate']*T)\n",
    "    return Price_C, Price_P\n",
    "\n",
    "    \n",
    "\n",
    "Param = {'Volatility': 0.25, 'InterestRate': 0.11}\n",
    "Price_C, Price_P = European(Param, S0=100, T=1.0, Strike=100)\n",
    "print 'European\\nCall= ', Price_C,'\\n','Put = ', Price_P\n",
    "\n",
    "Price_C, Price_P = Asian(Param, S0=100, T=1.0, Strike=100, Steps=1000)\n",
    "print 'Asian\\nCall= ', Price_C,'\\n','Put = ', Price_P\n",
    "\n",
    "\n",
    "Price_C, Price_P = Lookback(Param, S0=100, T=1.0, Strike=100, Steps=1000)\n",
    "print 'Lookback\\nCall= ', Price_C,'\\n','Put = ', Price_P\n",
    "\n",
    "Price_C, Price_P = FloatingLookback(Param, S0=100, T=1.0, Steps=1000)\n",
    "print 'FloatingLookback\\nCall= ', Price_C,'\\n','Put = ', Price_P\n",
    "\n"
   ]
  },
  {
   "cell_type": "code",
   "execution_count": 12,
   "metadata": {
    "scrolled": true
   },
   "outputs": [
    {
     "name": "stdout",
     "output_type": "stream",
     "text": [
      "[ 1.  1.  1.]\n"
     ]
    },
    {
     "data": {
      "text/plain": [
       "numpy.ndarray"
      ]
     },
     "execution_count": 12,
     "metadata": {},
     "output_type": "execute_result"
    }
   ],
   "source": [
    "A =np.ones (3)\n",
    "print(A)\n",
    "type (A)\n",
    "\n"
   ]
  },
  {
   "cell_type": "code",
   "execution_count": 1,
   "metadata": {},
   "outputs": [
    {
     "name": "stderr",
     "output_type": "stream",
     "text": [
      "/Users/emreahmetu/anaconda/lib/python2.7/site-packages/pandas/io/data.py:35: FutureWarning: \n",
      "The pandas.io.data module is moved to a separate package (pandas-datareader) and will be removed from pandas in a future version.\n",
      "After installing the pandas-datareader package (https://github.com/pydata/pandas-datareader), you can change the import ``from pandas.io import data, wb`` to ``from pandas_datareader import data, wb``.\n",
      "  FutureWarning)\n"
     ]
    }
   ],
   "source": [
    "import pandas as pd\n",
    "import pandas.io.data as web\n",
    "\n",
    "import datetime \n",
    "\n",
    "start = datetime.datetime(2012, 1,1)\n",
    "end = datetime.datetime(2016,11,18)\n",
    "msft = web.DataReader(\"MSFT\",'yahoo',start,end)\n",
    "aapl= web.DataReader(\"AAPL\",'yahoo',start,end)"
   ]
  },
  {
   "cell_type": "code",
   "execution_count": 2,
   "metadata": {},
   "outputs": [
    {
     "data": {
      "text/html": [
       "<div>\n",
       "<table border=\"1\" class=\"dataframe\">\n",
       "  <thead>\n",
       "    <tr style=\"text-align: right;\">\n",
       "      <th></th>\n",
       "      <th>Open</th>\n",
       "      <th>High</th>\n",
       "      <th>Low</th>\n",
       "      <th>Close</th>\n",
       "      <th>Volume</th>\n",
       "      <th>Adj Close</th>\n",
       "    </tr>\n",
       "    <tr>\n",
       "      <th>Date</th>\n",
       "      <th></th>\n",
       "      <th></th>\n",
       "      <th></th>\n",
       "      <th></th>\n",
       "      <th></th>\n",
       "      <th></th>\n",
       "    </tr>\n",
       "  </thead>\n",
       "  <tbody>\n",
       "    <tr>\n",
       "      <th>2012-01-03</th>\n",
       "      <td>26.549999</td>\n",
       "      <td>26.959999</td>\n",
       "      <td>26.389999</td>\n",
       "      <td>26.770000</td>\n",
       "      <td>64731500</td>\n",
       "      <td>23.304317</td>\n",
       "    </tr>\n",
       "    <tr>\n",
       "      <th>2012-01-04</th>\n",
       "      <td>26.820000</td>\n",
       "      <td>27.469999</td>\n",
       "      <td>26.780001</td>\n",
       "      <td>27.400000</td>\n",
       "      <td>80516100</td>\n",
       "      <td>23.852755</td>\n",
       "    </tr>\n",
       "    <tr>\n",
       "      <th>2012-01-05</th>\n",
       "      <td>27.379999</td>\n",
       "      <td>27.730000</td>\n",
       "      <td>27.290001</td>\n",
       "      <td>27.680000</td>\n",
       "      <td>56081400</td>\n",
       "      <td>24.096507</td>\n",
       "    </tr>\n",
       "    <tr>\n",
       "      <th>2012-01-06</th>\n",
       "      <td>27.530001</td>\n",
       "      <td>28.190001</td>\n",
       "      <td>27.530001</td>\n",
       "      <td>28.110001</td>\n",
       "      <td>99455500</td>\n",
       "      <td>24.470839</td>\n",
       "    </tr>\n",
       "    <tr>\n",
       "      <th>2012-01-09</th>\n",
       "      <td>28.049999</td>\n",
       "      <td>28.100000</td>\n",
       "      <td>27.719999</td>\n",
       "      <td>27.740000</td>\n",
       "      <td>59706800</td>\n",
       "      <td>24.148739</td>\n",
       "    </tr>\n",
       "    <tr>\n",
       "      <th>2012-01-10</th>\n",
       "      <td>27.930000</td>\n",
       "      <td>28.150000</td>\n",
       "      <td>27.750000</td>\n",
       "      <td>27.840000</td>\n",
       "      <td>60014400</td>\n",
       "      <td>24.235793</td>\n",
       "    </tr>\n",
       "    <tr>\n",
       "      <th>2012-01-11</th>\n",
       "      <td>27.430000</td>\n",
       "      <td>27.980000</td>\n",
       "      <td>27.370001</td>\n",
       "      <td>27.719999</td>\n",
       "      <td>65582400</td>\n",
       "      <td>24.131328</td>\n",
       "    </tr>\n",
       "    <tr>\n",
       "      <th>2012-01-12</th>\n",
       "      <td>27.870001</td>\n",
       "      <td>28.020000</td>\n",
       "      <td>27.650000</td>\n",
       "      <td>28.000000</td>\n",
       "      <td>49370800</td>\n",
       "      <td>24.375079</td>\n",
       "    </tr>\n",
       "    <tr>\n",
       "      <th>2012-01-13</th>\n",
       "      <td>27.930000</td>\n",
       "      <td>28.250000</td>\n",
       "      <td>27.790001</td>\n",
       "      <td>28.250000</td>\n",
       "      <td>60196100</td>\n",
       "      <td>24.592714</td>\n",
       "    </tr>\n",
       "    <tr>\n",
       "      <th>2012-01-17</th>\n",
       "      <td>28.400000</td>\n",
       "      <td>28.650000</td>\n",
       "      <td>28.170000</td>\n",
       "      <td>28.260000</td>\n",
       "      <td>72395300</td>\n",
       "      <td>24.601419</td>\n",
       "    </tr>\n",
       "    <tr>\n",
       "      <th>2012-01-18</th>\n",
       "      <td>28.309999</td>\n",
       "      <td>28.400000</td>\n",
       "      <td>27.969999</td>\n",
       "      <td>28.230000</td>\n",
       "      <td>64860600</td>\n",
       "      <td>24.575302</td>\n",
       "    </tr>\n",
       "    <tr>\n",
       "      <th>2012-01-19</th>\n",
       "      <td>28.160000</td>\n",
       "      <td>28.440001</td>\n",
       "      <td>28.030001</td>\n",
       "      <td>28.120001</td>\n",
       "      <td>74053500</td>\n",
       "      <td>24.479544</td>\n",
       "    </tr>\n",
       "    <tr>\n",
       "      <th>2012-01-20</th>\n",
       "      <td>28.820000</td>\n",
       "      <td>29.740000</td>\n",
       "      <td>28.750000</td>\n",
       "      <td>29.709999</td>\n",
       "      <td>165902900</td>\n",
       "      <td>25.863699</td>\n",
       "    </tr>\n",
       "    <tr>\n",
       "      <th>2012-01-23</th>\n",
       "      <td>29.549999</td>\n",
       "      <td>29.950001</td>\n",
       "      <td>29.350000</td>\n",
       "      <td>29.730000</td>\n",
       "      <td>76078100</td>\n",
       "      <td>25.881110</td>\n",
       "    </tr>\n",
       "    <tr>\n",
       "      <th>2012-01-24</th>\n",
       "      <td>29.469999</td>\n",
       "      <td>29.570000</td>\n",
       "      <td>29.180000</td>\n",
       "      <td>29.340000</td>\n",
       "      <td>51703300</td>\n",
       "      <td>25.541601</td>\n",
       "    </tr>\n",
       "    <tr>\n",
       "      <th>2012-01-25</th>\n",
       "      <td>29.070000</td>\n",
       "      <td>29.650000</td>\n",
       "      <td>29.070000</td>\n",
       "      <td>29.559999</td>\n",
       "      <td>59231700</td>\n",
       "      <td>25.733119</td>\n",
       "    </tr>\n",
       "    <tr>\n",
       "      <th>2012-01-26</th>\n",
       "      <td>29.610001</td>\n",
       "      <td>29.700001</td>\n",
       "      <td>29.400000</td>\n",
       "      <td>29.500000</td>\n",
       "      <td>49102800</td>\n",
       "      <td>25.680887</td>\n",
       "    </tr>\n",
       "    <tr>\n",
       "      <th>2012-01-27</th>\n",
       "      <td>29.450001</td>\n",
       "      <td>29.530001</td>\n",
       "      <td>29.170000</td>\n",
       "      <td>29.230000</td>\n",
       "      <td>44187700</td>\n",
       "      <td>25.445841</td>\n",
       "    </tr>\n",
       "    <tr>\n",
       "      <th>2012-01-30</th>\n",
       "      <td>28.969999</td>\n",
       "      <td>29.620001</td>\n",
       "      <td>28.830000</td>\n",
       "      <td>29.610001</td>\n",
       "      <td>51114800</td>\n",
       "      <td>25.776646</td>\n",
       "    </tr>\n",
       "    <tr>\n",
       "      <th>2012-01-31</th>\n",
       "      <td>29.660000</td>\n",
       "      <td>29.700001</td>\n",
       "      <td>29.230000</td>\n",
       "      <td>29.530001</td>\n",
       "      <td>50572400</td>\n",
       "      <td>25.707003</td>\n",
       "    </tr>\n",
       "    <tr>\n",
       "      <th>2012-02-01</th>\n",
       "      <td>29.790001</td>\n",
       "      <td>30.049999</td>\n",
       "      <td>29.760000</td>\n",
       "      <td>29.889999</td>\n",
       "      <td>67409900</td>\n",
       "      <td>26.020396</td>\n",
       "    </tr>\n",
       "    <tr>\n",
       "      <th>2012-02-02</th>\n",
       "      <td>29.900000</td>\n",
       "      <td>30.170000</td>\n",
       "      <td>29.709999</td>\n",
       "      <td>29.950001</td>\n",
       "      <td>52223300</td>\n",
       "      <td>26.072630</td>\n",
       "    </tr>\n",
       "    <tr>\n",
       "      <th>2012-02-03</th>\n",
       "      <td>30.139999</td>\n",
       "      <td>30.400000</td>\n",
       "      <td>30.090000</td>\n",
       "      <td>30.240000</td>\n",
       "      <td>41838500</td>\n",
       "      <td>26.325085</td>\n",
       "    </tr>\n",
       "    <tr>\n",
       "      <th>2012-02-06</th>\n",
       "      <td>30.040001</td>\n",
       "      <td>30.219999</td>\n",
       "      <td>29.969999</td>\n",
       "      <td>30.200001</td>\n",
       "      <td>28039700</td>\n",
       "      <td>26.290264</td>\n",
       "    </tr>\n",
       "    <tr>\n",
       "      <th>2012-02-07</th>\n",
       "      <td>30.150000</td>\n",
       "      <td>30.490000</td>\n",
       "      <td>30.049999</td>\n",
       "      <td>30.350000</td>\n",
       "      <td>39242400</td>\n",
       "      <td>26.420845</td>\n",
       "    </tr>\n",
       "    <tr>\n",
       "      <th>2012-02-08</th>\n",
       "      <td>30.260000</td>\n",
       "      <td>30.670000</td>\n",
       "      <td>30.219999</td>\n",
       "      <td>30.660000</td>\n",
       "      <td>49659100</td>\n",
       "      <td>26.690711</td>\n",
       "    </tr>\n",
       "    <tr>\n",
       "      <th>2012-02-09</th>\n",
       "      <td>30.680000</td>\n",
       "      <td>30.799999</td>\n",
       "      <td>30.480000</td>\n",
       "      <td>30.770000</td>\n",
       "      <td>50481600</td>\n",
       "      <td>26.786471</td>\n",
       "    </tr>\n",
       "    <tr>\n",
       "      <th>2012-02-10</th>\n",
       "      <td>30.639999</td>\n",
       "      <td>30.799999</td>\n",
       "      <td>30.360001</td>\n",
       "      <td>30.500000</td>\n",
       "      <td>44605300</td>\n",
       "      <td>26.551425</td>\n",
       "    </tr>\n",
       "    <tr>\n",
       "      <th>2012-02-13</th>\n",
       "      <td>30.629999</td>\n",
       "      <td>30.770000</td>\n",
       "      <td>30.430000</td>\n",
       "      <td>30.580000</td>\n",
       "      <td>33319800</td>\n",
       "      <td>26.621068</td>\n",
       "    </tr>\n",
       "    <tr>\n",
       "      <th>2012-02-14</th>\n",
       "      <td>30.330000</td>\n",
       "      <td>30.459999</td>\n",
       "      <td>29.850000</td>\n",
       "      <td>30.250000</td>\n",
       "      <td>59644000</td>\n",
       "      <td>26.507153</td>\n",
       "    </tr>\n",
       "    <tr>\n",
       "      <th>...</th>\n",
       "      <td>...</td>\n",
       "      <td>...</td>\n",
       "      <td>...</td>\n",
       "      <td>...</td>\n",
       "      <td>...</td>\n",
       "      <td>...</td>\n",
       "    </tr>\n",
       "    <tr>\n",
       "      <th>2016-10-10</th>\n",
       "      <td>57.910000</td>\n",
       "      <td>58.389999</td>\n",
       "      <td>57.869999</td>\n",
       "      <td>58.040001</td>\n",
       "      <td>18196500</td>\n",
       "      <td>57.650539</td>\n",
       "    </tr>\n",
       "    <tr>\n",
       "      <th>2016-10-11</th>\n",
       "      <td>57.889999</td>\n",
       "      <td>58.020000</td>\n",
       "      <td>56.889999</td>\n",
       "      <td>57.189999</td>\n",
       "      <td>26497400</td>\n",
       "      <td>56.806241</td>\n",
       "    </tr>\n",
       "    <tr>\n",
       "      <th>2016-10-12</th>\n",
       "      <td>57.110001</td>\n",
       "      <td>57.270000</td>\n",
       "      <td>56.400002</td>\n",
       "      <td>57.110001</td>\n",
       "      <td>22177500</td>\n",
       "      <td>56.726779</td>\n",
       "    </tr>\n",
       "    <tr>\n",
       "      <th>2016-10-13</th>\n",
       "      <td>56.700001</td>\n",
       "      <td>57.299999</td>\n",
       "      <td>56.320000</td>\n",
       "      <td>56.919998</td>\n",
       "      <td>25313700</td>\n",
       "      <td>56.538052</td>\n",
       "    </tr>\n",
       "    <tr>\n",
       "      <th>2016-10-14</th>\n",
       "      <td>57.119999</td>\n",
       "      <td>57.740002</td>\n",
       "      <td>57.119999</td>\n",
       "      <td>57.419998</td>\n",
       "      <td>27402500</td>\n",
       "      <td>57.034697</td>\n",
       "    </tr>\n",
       "    <tr>\n",
       "      <th>2016-10-17</th>\n",
       "      <td>57.360001</td>\n",
       "      <td>57.459999</td>\n",
       "      <td>56.869999</td>\n",
       "      <td>57.220001</td>\n",
       "      <td>23830000</td>\n",
       "      <td>56.836042</td>\n",
       "    </tr>\n",
       "    <tr>\n",
       "      <th>2016-10-18</th>\n",
       "      <td>57.529999</td>\n",
       "      <td>57.950001</td>\n",
       "      <td>57.410000</td>\n",
       "      <td>57.660000</td>\n",
       "      <td>19149500</td>\n",
       "      <td>57.273088</td>\n",
       "    </tr>\n",
       "    <tr>\n",
       "      <th>2016-10-19</th>\n",
       "      <td>57.470001</td>\n",
       "      <td>57.840000</td>\n",
       "      <td>57.400002</td>\n",
       "      <td>57.529999</td>\n",
       "      <td>22878400</td>\n",
       "      <td>57.143959</td>\n",
       "    </tr>\n",
       "    <tr>\n",
       "      <th>2016-10-20</th>\n",
       "      <td>57.500000</td>\n",
       "      <td>57.520000</td>\n",
       "      <td>56.660000</td>\n",
       "      <td>57.250000</td>\n",
       "      <td>49455600</td>\n",
       "      <td>56.865839</td>\n",
       "    </tr>\n",
       "    <tr>\n",
       "      <th>2016-10-21</th>\n",
       "      <td>60.279999</td>\n",
       "      <td>60.450001</td>\n",
       "      <td>59.490002</td>\n",
       "      <td>59.660000</td>\n",
       "      <td>80032200</td>\n",
       "      <td>59.259667</td>\n",
       "    </tr>\n",
       "    <tr>\n",
       "      <th>2016-10-24</th>\n",
       "      <td>59.939999</td>\n",
       "      <td>61.000000</td>\n",
       "      <td>59.930000</td>\n",
       "      <td>61.000000</td>\n",
       "      <td>54067000</td>\n",
       "      <td>60.590676</td>\n",
       "    </tr>\n",
       "    <tr>\n",
       "      <th>2016-10-25</th>\n",
       "      <td>60.849998</td>\n",
       "      <td>61.369999</td>\n",
       "      <td>60.799999</td>\n",
       "      <td>60.990002</td>\n",
       "      <td>35137200</td>\n",
       "      <td>60.580745</td>\n",
       "    </tr>\n",
       "    <tr>\n",
       "      <th>2016-10-26</th>\n",
       "      <td>60.810001</td>\n",
       "      <td>61.200001</td>\n",
       "      <td>60.470001</td>\n",
       "      <td>60.630001</td>\n",
       "      <td>29911600</td>\n",
       "      <td>60.223160</td>\n",
       "    </tr>\n",
       "    <tr>\n",
       "      <th>2016-10-27</th>\n",
       "      <td>60.610001</td>\n",
       "      <td>60.830002</td>\n",
       "      <td>60.090000</td>\n",
       "      <td>60.099998</td>\n",
       "      <td>28479900</td>\n",
       "      <td>59.696714</td>\n",
       "    </tr>\n",
       "    <tr>\n",
       "      <th>2016-10-28</th>\n",
       "      <td>60.009998</td>\n",
       "      <td>60.520000</td>\n",
       "      <td>59.580002</td>\n",
       "      <td>59.869999</td>\n",
       "      <td>33574700</td>\n",
       "      <td>59.468257</td>\n",
       "    </tr>\n",
       "    <tr>\n",
       "      <th>2016-10-31</th>\n",
       "      <td>60.160000</td>\n",
       "      <td>60.419998</td>\n",
       "      <td>59.919998</td>\n",
       "      <td>59.919998</td>\n",
       "      <td>26434700</td>\n",
       "      <td>59.517921</td>\n",
       "    </tr>\n",
       "    <tr>\n",
       "      <th>2016-11-01</th>\n",
       "      <td>59.970001</td>\n",
       "      <td>60.020000</td>\n",
       "      <td>59.250000</td>\n",
       "      <td>59.799999</td>\n",
       "      <td>24533000</td>\n",
       "      <td>59.398727</td>\n",
       "    </tr>\n",
       "    <tr>\n",
       "      <th>2016-11-02</th>\n",
       "      <td>59.820000</td>\n",
       "      <td>59.930000</td>\n",
       "      <td>59.299999</td>\n",
       "      <td>59.430000</td>\n",
       "      <td>22147000</td>\n",
       "      <td>59.031211</td>\n",
       "    </tr>\n",
       "    <tr>\n",
       "      <th>2016-11-03</th>\n",
       "      <td>59.529999</td>\n",
       "      <td>59.639999</td>\n",
       "      <td>59.110001</td>\n",
       "      <td>59.209999</td>\n",
       "      <td>21600400</td>\n",
       "      <td>58.812686</td>\n",
       "    </tr>\n",
       "    <tr>\n",
       "      <th>2016-11-04</th>\n",
       "      <td>58.650002</td>\n",
       "      <td>59.279999</td>\n",
       "      <td>58.520000</td>\n",
       "      <td>58.709999</td>\n",
       "      <td>28697000</td>\n",
       "      <td>58.316041</td>\n",
       "    </tr>\n",
       "    <tr>\n",
       "      <th>2016-11-07</th>\n",
       "      <td>59.779999</td>\n",
       "      <td>60.520000</td>\n",
       "      <td>59.779999</td>\n",
       "      <td>60.419998</td>\n",
       "      <td>31664800</td>\n",
       "      <td>60.014566</td>\n",
       "    </tr>\n",
       "    <tr>\n",
       "      <th>2016-11-08</th>\n",
       "      <td>60.549999</td>\n",
       "      <td>60.779999</td>\n",
       "      <td>60.150002</td>\n",
       "      <td>60.470001</td>\n",
       "      <td>22935400</td>\n",
       "      <td>60.064234</td>\n",
       "    </tr>\n",
       "    <tr>\n",
       "      <th>2016-11-09</th>\n",
       "      <td>60.000000</td>\n",
       "      <td>60.590000</td>\n",
       "      <td>59.200001</td>\n",
       "      <td>60.169998</td>\n",
       "      <td>49632500</td>\n",
       "      <td>59.766244</td>\n",
       "    </tr>\n",
       "    <tr>\n",
       "      <th>2016-11-10</th>\n",
       "      <td>60.480000</td>\n",
       "      <td>60.490002</td>\n",
       "      <td>57.630001</td>\n",
       "      <td>58.700001</td>\n",
       "      <td>57822400</td>\n",
       "      <td>58.306110</td>\n",
       "    </tr>\n",
       "    <tr>\n",
       "      <th>2016-11-11</th>\n",
       "      <td>58.230000</td>\n",
       "      <td>59.119999</td>\n",
       "      <td>58.009998</td>\n",
       "      <td>59.020000</td>\n",
       "      <td>38767800</td>\n",
       "      <td>58.623963</td>\n",
       "    </tr>\n",
       "    <tr>\n",
       "      <th>2016-11-14</th>\n",
       "      <td>59.020000</td>\n",
       "      <td>59.080002</td>\n",
       "      <td>57.279999</td>\n",
       "      <td>58.119999</td>\n",
       "      <td>41328400</td>\n",
       "      <td>57.730000</td>\n",
       "    </tr>\n",
       "    <tr>\n",
       "      <th>2016-11-15</th>\n",
       "      <td>58.330002</td>\n",
       "      <td>59.490002</td>\n",
       "      <td>58.320000</td>\n",
       "      <td>58.869999</td>\n",
       "      <td>34764300</td>\n",
       "      <td>58.869999</td>\n",
       "    </tr>\n",
       "    <tr>\n",
       "      <th>2016-11-16</th>\n",
       "      <td>58.939999</td>\n",
       "      <td>59.660000</td>\n",
       "      <td>58.810001</td>\n",
       "      <td>59.650002</td>\n",
       "      <td>26851400</td>\n",
       "      <td>59.650002</td>\n",
       "    </tr>\n",
       "    <tr>\n",
       "      <th>2016-11-17</th>\n",
       "      <td>60.410000</td>\n",
       "      <td>60.950001</td>\n",
       "      <td>59.970001</td>\n",
       "      <td>60.639999</td>\n",
       "      <td>31463700</td>\n",
       "      <td>60.639999</td>\n",
       "    </tr>\n",
       "    <tr>\n",
       "      <th>2016-11-18</th>\n",
       "      <td>60.779999</td>\n",
       "      <td>61.139999</td>\n",
       "      <td>60.299999</td>\n",
       "      <td>60.349998</td>\n",
       "      <td>26580600</td>\n",
       "      <td>60.349998</td>\n",
       "    </tr>\n",
       "  </tbody>\n",
       "</table>\n",
       "<p>1230 rows × 6 columns</p>\n",
       "</div>"
      ],
      "text/plain": [
       "                 Open       High        Low      Close     Volume  Adj Close\n",
       "Date                                                                        \n",
       "2012-01-03  26.549999  26.959999  26.389999  26.770000   64731500  23.304317\n",
       "2012-01-04  26.820000  27.469999  26.780001  27.400000   80516100  23.852755\n",
       "2012-01-05  27.379999  27.730000  27.290001  27.680000   56081400  24.096507\n",
       "2012-01-06  27.530001  28.190001  27.530001  28.110001   99455500  24.470839\n",
       "2012-01-09  28.049999  28.100000  27.719999  27.740000   59706800  24.148739\n",
       "2012-01-10  27.930000  28.150000  27.750000  27.840000   60014400  24.235793\n",
       "2012-01-11  27.430000  27.980000  27.370001  27.719999   65582400  24.131328\n",
       "2012-01-12  27.870001  28.020000  27.650000  28.000000   49370800  24.375079\n",
       "2012-01-13  27.930000  28.250000  27.790001  28.250000   60196100  24.592714\n",
       "2012-01-17  28.400000  28.650000  28.170000  28.260000   72395300  24.601419\n",
       "2012-01-18  28.309999  28.400000  27.969999  28.230000   64860600  24.575302\n",
       "2012-01-19  28.160000  28.440001  28.030001  28.120001   74053500  24.479544\n",
       "2012-01-20  28.820000  29.740000  28.750000  29.709999  165902900  25.863699\n",
       "2012-01-23  29.549999  29.950001  29.350000  29.730000   76078100  25.881110\n",
       "2012-01-24  29.469999  29.570000  29.180000  29.340000   51703300  25.541601\n",
       "2012-01-25  29.070000  29.650000  29.070000  29.559999   59231700  25.733119\n",
       "2012-01-26  29.610001  29.700001  29.400000  29.500000   49102800  25.680887\n",
       "2012-01-27  29.450001  29.530001  29.170000  29.230000   44187700  25.445841\n",
       "2012-01-30  28.969999  29.620001  28.830000  29.610001   51114800  25.776646\n",
       "2012-01-31  29.660000  29.700001  29.230000  29.530001   50572400  25.707003\n",
       "2012-02-01  29.790001  30.049999  29.760000  29.889999   67409900  26.020396\n",
       "2012-02-02  29.900000  30.170000  29.709999  29.950001   52223300  26.072630\n",
       "2012-02-03  30.139999  30.400000  30.090000  30.240000   41838500  26.325085\n",
       "2012-02-06  30.040001  30.219999  29.969999  30.200001   28039700  26.290264\n",
       "2012-02-07  30.150000  30.490000  30.049999  30.350000   39242400  26.420845\n",
       "2012-02-08  30.260000  30.670000  30.219999  30.660000   49659100  26.690711\n",
       "2012-02-09  30.680000  30.799999  30.480000  30.770000   50481600  26.786471\n",
       "2012-02-10  30.639999  30.799999  30.360001  30.500000   44605300  26.551425\n",
       "2012-02-13  30.629999  30.770000  30.430000  30.580000   33319800  26.621068\n",
       "2012-02-14  30.330000  30.459999  29.850000  30.250000   59644000  26.507153\n",
       "...               ...        ...        ...        ...        ...        ...\n",
       "2016-10-10  57.910000  58.389999  57.869999  58.040001   18196500  57.650539\n",
       "2016-10-11  57.889999  58.020000  56.889999  57.189999   26497400  56.806241\n",
       "2016-10-12  57.110001  57.270000  56.400002  57.110001   22177500  56.726779\n",
       "2016-10-13  56.700001  57.299999  56.320000  56.919998   25313700  56.538052\n",
       "2016-10-14  57.119999  57.740002  57.119999  57.419998   27402500  57.034697\n",
       "2016-10-17  57.360001  57.459999  56.869999  57.220001   23830000  56.836042\n",
       "2016-10-18  57.529999  57.950001  57.410000  57.660000   19149500  57.273088\n",
       "2016-10-19  57.470001  57.840000  57.400002  57.529999   22878400  57.143959\n",
       "2016-10-20  57.500000  57.520000  56.660000  57.250000   49455600  56.865839\n",
       "2016-10-21  60.279999  60.450001  59.490002  59.660000   80032200  59.259667\n",
       "2016-10-24  59.939999  61.000000  59.930000  61.000000   54067000  60.590676\n",
       "2016-10-25  60.849998  61.369999  60.799999  60.990002   35137200  60.580745\n",
       "2016-10-26  60.810001  61.200001  60.470001  60.630001   29911600  60.223160\n",
       "2016-10-27  60.610001  60.830002  60.090000  60.099998   28479900  59.696714\n",
       "2016-10-28  60.009998  60.520000  59.580002  59.869999   33574700  59.468257\n",
       "2016-10-31  60.160000  60.419998  59.919998  59.919998   26434700  59.517921\n",
       "2016-11-01  59.970001  60.020000  59.250000  59.799999   24533000  59.398727\n",
       "2016-11-02  59.820000  59.930000  59.299999  59.430000   22147000  59.031211\n",
       "2016-11-03  59.529999  59.639999  59.110001  59.209999   21600400  58.812686\n",
       "2016-11-04  58.650002  59.279999  58.520000  58.709999   28697000  58.316041\n",
       "2016-11-07  59.779999  60.520000  59.779999  60.419998   31664800  60.014566\n",
       "2016-11-08  60.549999  60.779999  60.150002  60.470001   22935400  60.064234\n",
       "2016-11-09  60.000000  60.590000  59.200001  60.169998   49632500  59.766244\n",
       "2016-11-10  60.480000  60.490002  57.630001  58.700001   57822400  58.306110\n",
       "2016-11-11  58.230000  59.119999  58.009998  59.020000   38767800  58.623963\n",
       "2016-11-14  59.020000  59.080002  57.279999  58.119999   41328400  57.730000\n",
       "2016-11-15  58.330002  59.490002  58.320000  58.869999   34764300  58.869999\n",
       "2016-11-16  58.939999  59.660000  58.810001  59.650002   26851400  59.650002\n",
       "2016-11-17  60.410000  60.950001  59.970001  60.639999   31463700  60.639999\n",
       "2016-11-18  60.779999  61.139999  60.299999  60.349998   26580600  60.349998\n",
       "\n",
       "[1230 rows x 6 columns]"
      ]
     },
     "execution_count": 2,
     "metadata": {},
     "output_type": "execute_result"
    }
   ],
   "source": [
    "msft"
   ]
  },
  {
   "cell_type": "code",
   "execution_count": 3,
   "metadata": {},
   "outputs": [
    {
     "data": {
      "text/html": [
       "<div>\n",
       "<table border=\"1\" class=\"dataframe\">\n",
       "  <thead>\n",
       "    <tr style=\"text-align: right;\">\n",
       "      <th></th>\n",
       "      <th>Open</th>\n",
       "      <th>Close</th>\n",
       "    </tr>\n",
       "    <tr>\n",
       "      <th>Date</th>\n",
       "      <th></th>\n",
       "      <th></th>\n",
       "    </tr>\n",
       "  </thead>\n",
       "  <tbody>\n",
       "    <tr>\n",
       "      <th>2012-01-03</th>\n",
       "      <td>26.549999</td>\n",
       "      <td>26.770000</td>\n",
       "    </tr>\n",
       "    <tr>\n",
       "      <th>2012-01-04</th>\n",
       "      <td>26.820000</td>\n",
       "      <td>27.400000</td>\n",
       "    </tr>\n",
       "    <tr>\n",
       "      <th>2012-01-05</th>\n",
       "      <td>27.379999</td>\n",
       "      <td>27.680000</td>\n",
       "    </tr>\n",
       "    <tr>\n",
       "      <th>2012-01-06</th>\n",
       "      <td>27.530001</td>\n",
       "      <td>28.110001</td>\n",
       "    </tr>\n",
       "    <tr>\n",
       "      <th>2012-01-09</th>\n",
       "      <td>28.049999</td>\n",
       "      <td>27.740000</td>\n",
       "    </tr>\n",
       "    <tr>\n",
       "      <th>2012-01-10</th>\n",
       "      <td>27.930000</td>\n",
       "      <td>27.840000</td>\n",
       "    </tr>\n",
       "    <tr>\n",
       "      <th>2012-01-11</th>\n",
       "      <td>27.430000</td>\n",
       "      <td>27.719999</td>\n",
       "    </tr>\n",
       "    <tr>\n",
       "      <th>2012-01-12</th>\n",
       "      <td>27.870001</td>\n",
       "      <td>28.000000</td>\n",
       "    </tr>\n",
       "    <tr>\n",
       "      <th>2012-01-13</th>\n",
       "      <td>27.930000</td>\n",
       "      <td>28.250000</td>\n",
       "    </tr>\n",
       "    <tr>\n",
       "      <th>2012-01-17</th>\n",
       "      <td>28.400000</td>\n",
       "      <td>28.260000</td>\n",
       "    </tr>\n",
       "    <tr>\n",
       "      <th>2012-01-18</th>\n",
       "      <td>28.309999</td>\n",
       "      <td>28.230000</td>\n",
       "    </tr>\n",
       "    <tr>\n",
       "      <th>2012-01-19</th>\n",
       "      <td>28.160000</td>\n",
       "      <td>28.120001</td>\n",
       "    </tr>\n",
       "    <tr>\n",
       "      <th>2012-01-20</th>\n",
       "      <td>28.820000</td>\n",
       "      <td>29.709999</td>\n",
       "    </tr>\n",
       "    <tr>\n",
       "      <th>2012-01-23</th>\n",
       "      <td>29.549999</td>\n",
       "      <td>29.730000</td>\n",
       "    </tr>\n",
       "    <tr>\n",
       "      <th>2012-01-24</th>\n",
       "      <td>29.469999</td>\n",
       "      <td>29.340000</td>\n",
       "    </tr>\n",
       "    <tr>\n",
       "      <th>2012-01-25</th>\n",
       "      <td>29.070000</td>\n",
       "      <td>29.559999</td>\n",
       "    </tr>\n",
       "    <tr>\n",
       "      <th>2012-01-26</th>\n",
       "      <td>29.610001</td>\n",
       "      <td>29.500000</td>\n",
       "    </tr>\n",
       "    <tr>\n",
       "      <th>2012-01-27</th>\n",
       "      <td>29.450001</td>\n",
       "      <td>29.230000</td>\n",
       "    </tr>\n",
       "    <tr>\n",
       "      <th>2012-01-30</th>\n",
       "      <td>28.969999</td>\n",
       "      <td>29.610001</td>\n",
       "    </tr>\n",
       "    <tr>\n",
       "      <th>2012-01-31</th>\n",
       "      <td>29.660000</td>\n",
       "      <td>29.530001</td>\n",
       "    </tr>\n",
       "    <tr>\n",
       "      <th>2012-02-01</th>\n",
       "      <td>29.790001</td>\n",
       "      <td>29.889999</td>\n",
       "    </tr>\n",
       "    <tr>\n",
       "      <th>2012-02-02</th>\n",
       "      <td>29.900000</td>\n",
       "      <td>29.950001</td>\n",
       "    </tr>\n",
       "    <tr>\n",
       "      <th>2012-02-03</th>\n",
       "      <td>30.139999</td>\n",
       "      <td>30.240000</td>\n",
       "    </tr>\n",
       "    <tr>\n",
       "      <th>2012-02-06</th>\n",
       "      <td>30.040001</td>\n",
       "      <td>30.200001</td>\n",
       "    </tr>\n",
       "    <tr>\n",
       "      <th>2012-02-07</th>\n",
       "      <td>30.150000</td>\n",
       "      <td>30.350000</td>\n",
       "    </tr>\n",
       "    <tr>\n",
       "      <th>2012-02-08</th>\n",
       "      <td>30.260000</td>\n",
       "      <td>30.660000</td>\n",
       "    </tr>\n",
       "    <tr>\n",
       "      <th>2012-02-09</th>\n",
       "      <td>30.680000</td>\n",
       "      <td>30.770000</td>\n",
       "    </tr>\n",
       "    <tr>\n",
       "      <th>2012-02-10</th>\n",
       "      <td>30.639999</td>\n",
       "      <td>30.500000</td>\n",
       "    </tr>\n",
       "    <tr>\n",
       "      <th>2012-02-13</th>\n",
       "      <td>30.629999</td>\n",
       "      <td>30.580000</td>\n",
       "    </tr>\n",
       "    <tr>\n",
       "      <th>2012-02-14</th>\n",
       "      <td>30.330000</td>\n",
       "      <td>30.250000</td>\n",
       "    </tr>\n",
       "    <tr>\n",
       "      <th>...</th>\n",
       "      <td>...</td>\n",
       "      <td>...</td>\n",
       "    </tr>\n",
       "    <tr>\n",
       "      <th>2016-10-10</th>\n",
       "      <td>57.910000</td>\n",
       "      <td>58.040001</td>\n",
       "    </tr>\n",
       "    <tr>\n",
       "      <th>2016-10-11</th>\n",
       "      <td>57.889999</td>\n",
       "      <td>57.189999</td>\n",
       "    </tr>\n",
       "    <tr>\n",
       "      <th>2016-10-12</th>\n",
       "      <td>57.110001</td>\n",
       "      <td>57.110001</td>\n",
       "    </tr>\n",
       "    <tr>\n",
       "      <th>2016-10-13</th>\n",
       "      <td>56.700001</td>\n",
       "      <td>56.919998</td>\n",
       "    </tr>\n",
       "    <tr>\n",
       "      <th>2016-10-14</th>\n",
       "      <td>57.119999</td>\n",
       "      <td>57.419998</td>\n",
       "    </tr>\n",
       "    <tr>\n",
       "      <th>2016-10-17</th>\n",
       "      <td>57.360001</td>\n",
       "      <td>57.220001</td>\n",
       "    </tr>\n",
       "    <tr>\n",
       "      <th>2016-10-18</th>\n",
       "      <td>57.529999</td>\n",
       "      <td>57.660000</td>\n",
       "    </tr>\n",
       "    <tr>\n",
       "      <th>2016-10-19</th>\n",
       "      <td>57.470001</td>\n",
       "      <td>57.529999</td>\n",
       "    </tr>\n",
       "    <tr>\n",
       "      <th>2016-10-20</th>\n",
       "      <td>57.500000</td>\n",
       "      <td>57.250000</td>\n",
       "    </tr>\n",
       "    <tr>\n",
       "      <th>2016-10-21</th>\n",
       "      <td>60.279999</td>\n",
       "      <td>59.660000</td>\n",
       "    </tr>\n",
       "    <tr>\n",
       "      <th>2016-10-24</th>\n",
       "      <td>59.939999</td>\n",
       "      <td>61.000000</td>\n",
       "    </tr>\n",
       "    <tr>\n",
       "      <th>2016-10-25</th>\n",
       "      <td>60.849998</td>\n",
       "      <td>60.990002</td>\n",
       "    </tr>\n",
       "    <tr>\n",
       "      <th>2016-10-26</th>\n",
       "      <td>60.810001</td>\n",
       "      <td>60.630001</td>\n",
       "    </tr>\n",
       "    <tr>\n",
       "      <th>2016-10-27</th>\n",
       "      <td>60.610001</td>\n",
       "      <td>60.099998</td>\n",
       "    </tr>\n",
       "    <tr>\n",
       "      <th>2016-10-28</th>\n",
       "      <td>60.009998</td>\n",
       "      <td>59.869999</td>\n",
       "    </tr>\n",
       "    <tr>\n",
       "      <th>2016-10-31</th>\n",
       "      <td>60.160000</td>\n",
       "      <td>59.919998</td>\n",
       "    </tr>\n",
       "    <tr>\n",
       "      <th>2016-11-01</th>\n",
       "      <td>59.970001</td>\n",
       "      <td>59.799999</td>\n",
       "    </tr>\n",
       "    <tr>\n",
       "      <th>2016-11-02</th>\n",
       "      <td>59.820000</td>\n",
       "      <td>59.430000</td>\n",
       "    </tr>\n",
       "    <tr>\n",
       "      <th>2016-11-03</th>\n",
       "      <td>59.529999</td>\n",
       "      <td>59.209999</td>\n",
       "    </tr>\n",
       "    <tr>\n",
       "      <th>2016-11-04</th>\n",
       "      <td>58.650002</td>\n",
       "      <td>58.709999</td>\n",
       "    </tr>\n",
       "    <tr>\n",
       "      <th>2016-11-07</th>\n",
       "      <td>59.779999</td>\n",
       "      <td>60.419998</td>\n",
       "    </tr>\n",
       "    <tr>\n",
       "      <th>2016-11-08</th>\n",
       "      <td>60.549999</td>\n",
       "      <td>60.470001</td>\n",
       "    </tr>\n",
       "    <tr>\n",
       "      <th>2016-11-09</th>\n",
       "      <td>60.000000</td>\n",
       "      <td>60.169998</td>\n",
       "    </tr>\n",
       "    <tr>\n",
       "      <th>2016-11-10</th>\n",
       "      <td>60.480000</td>\n",
       "      <td>58.700001</td>\n",
       "    </tr>\n",
       "    <tr>\n",
       "      <th>2016-11-11</th>\n",
       "      <td>58.230000</td>\n",
       "      <td>59.020000</td>\n",
       "    </tr>\n",
       "    <tr>\n",
       "      <th>2016-11-14</th>\n",
       "      <td>59.020000</td>\n",
       "      <td>58.119999</td>\n",
       "    </tr>\n",
       "    <tr>\n",
       "      <th>2016-11-15</th>\n",
       "      <td>58.330002</td>\n",
       "      <td>58.869999</td>\n",
       "    </tr>\n",
       "    <tr>\n",
       "      <th>2016-11-16</th>\n",
       "      <td>58.939999</td>\n",
       "      <td>59.650002</td>\n",
       "    </tr>\n",
       "    <tr>\n",
       "      <th>2016-11-17</th>\n",
       "      <td>60.410000</td>\n",
       "      <td>60.639999</td>\n",
       "    </tr>\n",
       "    <tr>\n",
       "      <th>2016-11-18</th>\n",
       "      <td>60.779999</td>\n",
       "      <td>60.349998</td>\n",
       "    </tr>\n",
       "  </tbody>\n",
       "</table>\n",
       "<p>1230 rows × 2 columns</p>\n",
       "</div>"
      ],
      "text/plain": [
       "                 Open      Close\n",
       "Date                            \n",
       "2012-01-03  26.549999  26.770000\n",
       "2012-01-04  26.820000  27.400000\n",
       "2012-01-05  27.379999  27.680000\n",
       "2012-01-06  27.530001  28.110001\n",
       "2012-01-09  28.049999  27.740000\n",
       "2012-01-10  27.930000  27.840000\n",
       "2012-01-11  27.430000  27.719999\n",
       "2012-01-12  27.870001  28.000000\n",
       "2012-01-13  27.930000  28.250000\n",
       "2012-01-17  28.400000  28.260000\n",
       "2012-01-18  28.309999  28.230000\n",
       "2012-01-19  28.160000  28.120001\n",
       "2012-01-20  28.820000  29.709999\n",
       "2012-01-23  29.549999  29.730000\n",
       "2012-01-24  29.469999  29.340000\n",
       "2012-01-25  29.070000  29.559999\n",
       "2012-01-26  29.610001  29.500000\n",
       "2012-01-27  29.450001  29.230000\n",
       "2012-01-30  28.969999  29.610001\n",
       "2012-01-31  29.660000  29.530001\n",
       "2012-02-01  29.790001  29.889999\n",
       "2012-02-02  29.900000  29.950001\n",
       "2012-02-03  30.139999  30.240000\n",
       "2012-02-06  30.040001  30.200001\n",
       "2012-02-07  30.150000  30.350000\n",
       "2012-02-08  30.260000  30.660000\n",
       "2012-02-09  30.680000  30.770000\n",
       "2012-02-10  30.639999  30.500000\n",
       "2012-02-13  30.629999  30.580000\n",
       "2012-02-14  30.330000  30.250000\n",
       "...               ...        ...\n",
       "2016-10-10  57.910000  58.040001\n",
       "2016-10-11  57.889999  57.189999\n",
       "2016-10-12  57.110001  57.110001\n",
       "2016-10-13  56.700001  56.919998\n",
       "2016-10-14  57.119999  57.419998\n",
       "2016-10-17  57.360001  57.220001\n",
       "2016-10-18  57.529999  57.660000\n",
       "2016-10-19  57.470001  57.529999\n",
       "2016-10-20  57.500000  57.250000\n",
       "2016-10-21  60.279999  59.660000\n",
       "2016-10-24  59.939999  61.000000\n",
       "2016-10-25  60.849998  60.990002\n",
       "2016-10-26  60.810001  60.630001\n",
       "2016-10-27  60.610001  60.099998\n",
       "2016-10-28  60.009998  59.869999\n",
       "2016-10-31  60.160000  59.919998\n",
       "2016-11-01  59.970001  59.799999\n",
       "2016-11-02  59.820000  59.430000\n",
       "2016-11-03  59.529999  59.209999\n",
       "2016-11-04  58.650002  58.709999\n",
       "2016-11-07  59.779999  60.419998\n",
       "2016-11-08  60.549999  60.470001\n",
       "2016-11-09  60.000000  60.169998\n",
       "2016-11-10  60.480000  58.700001\n",
       "2016-11-11  58.230000  59.020000\n",
       "2016-11-14  59.020000  58.119999\n",
       "2016-11-15  58.330002  58.869999\n",
       "2016-11-16  58.939999  59.650002\n",
       "2016-11-17  60.410000  60.639999\n",
       "2016-11-18  60.779999  60.349998\n",
       "\n",
       "[1230 rows x 2 columns]"
      ]
     },
     "execution_count": 3,
     "metadata": {},
     "output_type": "execute_result"
    }
   ],
   "source": [
    "msft [['Open','Close']]"
   ]
  },
  {
   "cell_type": "code",
   "execution_count": 4,
   "metadata": {},
   "outputs": [
    {
     "name": "stdout",
     "output_type": "stream",
     "text": [
      "                 Open      Close\n",
      "Date                            \n",
      "2012-01-03  26.549999  26.770000\n",
      "2012-01-04  26.820000  27.400000\n",
      "2012-01-05  27.379999  27.680000\n",
      "2012-01-06  27.530001  28.110001\n",
      "2012-01-09  28.049999  27.740000\n",
      "2012-01-10  27.930000  27.840000\n",
      "2012-01-11  27.430000  27.719999\n",
      "2012-01-12  27.870001  28.000000\n",
      "2012-01-13  27.930000  28.250000\n",
      "2012-01-17  28.400000  28.260000\n",
      "2012-01-18  28.309999  28.230000\n",
      "2012-01-19  28.160000  28.120001\n",
      "2012-01-20  28.820000  29.709999\n",
      "2012-01-23  29.549999  29.730000\n",
      "2012-01-24  29.469999  29.340000\n",
      "2012-01-25  29.070000  29.559999\n",
      "2012-01-26  29.610001  29.500000\n",
      "2012-01-27  29.450001  29.230000\n",
      "2012-01-30  28.969999  29.610001\n",
      "2012-01-31  29.660000  29.530001\n",
      "2012-02-01  29.790001  29.889999\n",
      "2012-02-02  29.900000  29.950001\n",
      "2012-02-03  30.139999  30.240000\n",
      "2012-02-06  30.040001  30.200001\n",
      "2012-02-07  30.150000  30.350000\n",
      "2012-02-08  30.260000  30.660000\n",
      "2012-02-09  30.680000  30.770000\n",
      "2012-02-10  30.639999  30.500000\n",
      "2012-02-13  30.629999  30.580000\n",
      "2012-02-14  30.330000  30.250000\n",
      "...               ...        ...\n",
      "2016-10-10  57.910000  58.040001\n",
      "2016-10-11  57.889999  57.189999\n",
      "2016-10-12  57.110001  57.110001\n",
      "2016-10-13  56.700001  56.919998\n",
      "2016-10-14  57.119999  57.419998\n",
      "2016-10-17  57.360001  57.220001\n",
      "2016-10-18  57.529999  57.660000\n",
      "2016-10-19  57.470001  57.529999\n",
      "2016-10-20  57.500000  57.250000\n",
      "2016-10-21  60.279999  59.660000\n",
      "2016-10-24  59.939999  61.000000\n",
      "2016-10-25  60.849998  60.990002\n",
      "2016-10-26  60.810001  60.630001\n",
      "2016-10-27  60.610001  60.099998\n",
      "2016-10-28  60.009998  59.869999\n",
      "2016-10-31  60.160000  59.919998\n",
      "2016-11-01  59.970001  59.799999\n",
      "2016-11-02  59.820000  59.430000\n",
      "2016-11-03  59.529999  59.209999\n",
      "2016-11-04  58.650002  58.709999\n",
      "2016-11-07  59.779999  60.419998\n",
      "2016-11-08  60.549999  60.470001\n",
      "2016-11-09  60.000000  60.169998\n",
      "2016-11-10  60.480000  58.700001\n",
      "2016-11-11  58.230000  59.020000\n",
      "2016-11-14  59.020000  58.119999\n",
      "2016-11-15  58.330002  58.869999\n",
      "2016-11-16  58.939999  59.650002\n",
      "2016-11-17  60.410000  60.639999\n",
      "2016-11-18  60.779999  60.349998\n",
      "\n",
      "[1230 rows x 2 columns]\n"
     ]
    }
   ],
   "source": [
    "print(msft[['Open','Close']])"
   ]
  },
  {
   "cell_type": "code",
   "execution_count": 6,
   "metadata": {
    "scrolled": true
   },
   "outputs": [
    {
     "data": {
      "image/png": "[encoded data removed]",
      "text/plain": [
       "<matplotlib.figure.Figure at 0x119280610>"
      ]
     },
     "metadata": {},
     "output_type": "display_data"
    }
   ],
   "source": [
    "%matplotlib inline\n",
    "import matplotlib.pyplot as plt\n",
    "plt.figure(figsize=(15,3))\n",
    "plt.plot(msft[['Open']])\n",
    "plt.show()"
   ]
  },
  {
   "cell_type": "code",
   "execution_count": 9,
   "metadata": {
    "scrolled": true
   },
   "outputs": [
    {
     "data": {
      "image/png": "[encoded data removed]",
      "text/plain": [
       "<matplotlib.figure.Figure at 0x118d5e410>"
      ]
     },
     "metadata": {},
     "output_type": "display_data"
    }
   ],
   "source": [
    "%matplotlib inline\n",
    "import matplotlib.pyplot as plt\n",
    "plt.figure(figsize=(15,3))\n",
    "plt.plot(aapl[['Open']])\n",
    "plt.show()"
   ]
  },
  {
   "cell_type": "code",
   "execution_count": 11,
   "metadata": {},
   "outputs": [
    {
     "data": {
      "text/plain": [
       "Index([u'Open', u'High', u'Low', u'Close', u'Volume', u'Adj Close'], dtype='object')"
      ]
     },
     "execution_count": 11,
     "metadata": {},
     "output_type": "execute_result"
    }
   ],
   "source": [
    "msft.columns"
   ]
  },
  {
   "cell_type": "code",
   "execution_count": 13,
   "metadata": {
    "collapsed": true
   },
   "outputs": [],
   "source": [
    "msft.to_csv(\"msft.csv\")"
   ]
  },
  {
   "cell_type": "code",
   "execution_count": 15,
   "metadata": {},
   "outputs": [],
   "source": [
    "msft2 = pd.read_csv(\"msft.csv\",index_col=0,parse_dates=True)"
   ]
  },
  {
   "cell_type": "code",
   "execution_count": 16,
   "metadata": {},
   "outputs": [
    {
     "name": "stdout",
     "output_type": "stream",
     "text": [
      "                 Open       High        Low      Close    Volume  Adj Close\n",
      "Date                                                                       \n",
      "2012-01-03  26.549999  26.959999  26.389999  26.770000  64731500  23.304317\n",
      "2012-01-04  26.820000  27.469999  26.780001  27.400000  80516100  23.852755\n",
      "2012-01-05  27.379999  27.730000  27.290001  27.680000  56081400  24.096507\n",
      "2012-01-06  27.530001  28.190001  27.530001  28.110001  99455500  24.470839\n",
      "2012-01-09  28.049999  28.100000  27.719999  27.740000  59706800  24.148739\n"
     ]
    }
   ],
   "source": [
    "print(msft2.head())"
   ]
  },
  {
   "cell_type": "code",
   "execution_count": 18,
   "metadata": {
    "scrolled": true
   },
   "outputs": [
    {
     "data": {
      "text/html": [
       "<div>\n",
       "<table border=\"1\" class=\"dataframe\">\n",
       "  <thead>\n",
       "    <tr style=\"text-align: right;\">\n",
       "      <th></th>\n",
       "      <th>Open</th>\n",
       "      <th>High</th>\n",
       "      <th>Low</th>\n",
       "      <th>Close</th>\n",
       "      <th>Volume</th>\n",
       "      <th>Adj Close</th>\n",
       "    </tr>\n",
       "    <tr>\n",
       "      <th>Date</th>\n",
       "      <th></th>\n",
       "      <th></th>\n",
       "      <th></th>\n",
       "      <th></th>\n",
       "      <th></th>\n",
       "      <th></th>\n",
       "    </tr>\n",
       "  </thead>\n",
       "  <tbody>\n",
       "    <tr>\n",
       "      <th>2014-01-02</th>\n",
       "      <td>555.680008</td>\n",
       "      <td>557.029999</td>\n",
       "      <td>552.020004</td>\n",
       "      <td>553.129990</td>\n",
       "      <td>58671200</td>\n",
       "      <td>74.437252</td>\n",
       "    </tr>\n",
       "    <tr>\n",
       "      <th>2014-01-03</th>\n",
       "      <td>552.860023</td>\n",
       "      <td>553.699989</td>\n",
       "      <td>540.429993</td>\n",
       "      <td>540.980019</td>\n",
       "      <td>98116900</td>\n",
       "      <td>72.802175</td>\n",
       "    </tr>\n",
       "    <tr>\n",
       "      <th>2014-01-06</th>\n",
       "      <td>537.450005</td>\n",
       "      <td>546.800018</td>\n",
       "      <td>533.599983</td>\n",
       "      <td>543.929993</td>\n",
       "      <td>103152700</td>\n",
       "      <td>73.199166</td>\n",
       "    </tr>\n",
       "    <tr>\n",
       "      <th>2014-01-07</th>\n",
       "      <td>544.320015</td>\n",
       "      <td>545.959999</td>\n",
       "      <td>537.919975</td>\n",
       "      <td>540.040024</td>\n",
       "      <td>79302300</td>\n",
       "      <td>72.675675</td>\n",
       "    </tr>\n",
       "    <tr>\n",
       "      <th>2014-01-08</th>\n",
       "      <td>538.809982</td>\n",
       "      <td>545.559990</td>\n",
       "      <td>538.689980</td>\n",
       "      <td>543.460022</td>\n",
       "      <td>64632400</td>\n",
       "      <td>73.135920</td>\n",
       "    </tr>\n",
       "    <tr>\n",
       "      <th>2014-01-09</th>\n",
       "      <td>546.800018</td>\n",
       "      <td>546.859993</td>\n",
       "      <td>535.349983</td>\n",
       "      <td>536.519997</td>\n",
       "      <td>69787200</td>\n",
       "      <td>72.201969</td>\n",
       "    </tr>\n",
       "    <tr>\n",
       "      <th>2014-01-10</th>\n",
       "      <td>539.829979</td>\n",
       "      <td>540.799988</td>\n",
       "      <td>531.109993</td>\n",
       "      <td>532.939995</td>\n",
       "      <td>76244000</td>\n",
       "      <td>71.720191</td>\n",
       "    </tr>\n",
       "    <tr>\n",
       "      <th>2014-01-13</th>\n",
       "      <td>529.910019</td>\n",
       "      <td>542.500000</td>\n",
       "      <td>529.880005</td>\n",
       "      <td>535.730019</td>\n",
       "      <td>94623200</td>\n",
       "      <td>72.095658</td>\n",
       "    </tr>\n",
       "    <tr>\n",
       "      <th>2014-01-14</th>\n",
       "      <td>538.220009</td>\n",
       "      <td>546.730003</td>\n",
       "      <td>537.659996</td>\n",
       "      <td>546.390022</td>\n",
       "      <td>83140400</td>\n",
       "      <td>73.530224</td>\n",
       "    </tr>\n",
       "    <tr>\n",
       "      <th>2014-01-15</th>\n",
       "      <td>553.520012</td>\n",
       "      <td>560.200005</td>\n",
       "      <td>551.659996</td>\n",
       "      <td>557.359993</td>\n",
       "      <td>97909700</td>\n",
       "      <td>75.006503</td>\n",
       "    </tr>\n",
       "    <tr>\n",
       "      <th>2014-01-16</th>\n",
       "      <td>554.900017</td>\n",
       "      <td>556.850021</td>\n",
       "      <td>551.680023</td>\n",
       "      <td>554.250015</td>\n",
       "      <td>57319500</td>\n",
       "      <td>74.587979</td>\n",
       "    </tr>\n",
       "    <tr>\n",
       "      <th>2014-01-17</th>\n",
       "      <td>551.480019</td>\n",
       "      <td>552.069992</td>\n",
       "      <td>539.899994</td>\n",
       "      <td>540.669998</td>\n",
       "      <td>106684900</td>\n",
       "      <td>72.760454</td>\n",
       "    </tr>\n",
       "    <tr>\n",
       "      <th>2014-01-21</th>\n",
       "      <td>540.990005</td>\n",
       "      <td>550.070000</td>\n",
       "      <td>540.420006</td>\n",
       "      <td>549.069977</td>\n",
       "      <td>82131700</td>\n",
       "      <td>73.890878</td>\n",
       "    </tr>\n",
       "    <tr>\n",
       "      <th>2014-01-22</th>\n",
       "      <td>550.910019</td>\n",
       "      <td>557.289978</td>\n",
       "      <td>547.809975</td>\n",
       "      <td>551.509979</td>\n",
       "      <td>94996300</td>\n",
       "      <td>74.219240</td>\n",
       "    </tr>\n",
       "    <tr>\n",
       "      <th>2014-01-23</th>\n",
       "      <td>549.940010</td>\n",
       "      <td>556.500000</td>\n",
       "      <td>544.810013</td>\n",
       "      <td>556.179993</td>\n",
       "      <td>100809800</td>\n",
       "      <td>74.847705</td>\n",
       "    </tr>\n",
       "    <tr>\n",
       "      <th>2014-01-24</th>\n",
       "      <td>554.000023</td>\n",
       "      <td>555.619980</td>\n",
       "      <td>544.749985</td>\n",
       "      <td>546.070015</td>\n",
       "      <td>107338700</td>\n",
       "      <td>73.487159</td>\n",
       "    </tr>\n",
       "    <tr>\n",
       "      <th>2014-01-27</th>\n",
       "      <td>550.070000</td>\n",
       "      <td>554.799988</td>\n",
       "      <td>545.750008</td>\n",
       "      <td>550.500023</td>\n",
       "      <td>138719700</td>\n",
       "      <td>74.083325</td>\n",
       "    </tr>\n",
       "    <tr>\n",
       "      <th>2014-01-28</th>\n",
       "      <td>508.760002</td>\n",
       "      <td>514.999985</td>\n",
       "      <td>502.070023</td>\n",
       "      <td>506.499977</td>\n",
       "      <td>266380800</td>\n",
       "      <td>68.162036</td>\n",
       "    </tr>\n",
       "    <tr>\n",
       "      <th>2014-01-29</th>\n",
       "      <td>503.950012</td>\n",
       "      <td>507.370010</td>\n",
       "      <td>498.620010</td>\n",
       "      <td>500.749992</td>\n",
       "      <td>125702500</td>\n",
       "      <td>67.388235</td>\n",
       "    </tr>\n",
       "    <tr>\n",
       "      <th>2014-01-30</th>\n",
       "      <td>502.539993</td>\n",
       "      <td>506.499977</td>\n",
       "      <td>496.700020</td>\n",
       "      <td>499.779984</td>\n",
       "      <td>169625400</td>\n",
       "      <td>67.257696</td>\n",
       "    </tr>\n",
       "    <tr>\n",
       "      <th>2014-01-31</th>\n",
       "      <td>495.179985</td>\n",
       "      <td>501.529984</td>\n",
       "      <td>493.549988</td>\n",
       "      <td>500.599976</td>\n",
       "      <td>116199300</td>\n",
       "      <td>67.368046</td>\n",
       "    </tr>\n",
       "  </tbody>\n",
       "</table>\n",
       "</div>"
      ],
      "text/plain": [
       "                  Open        High         Low       Close     Volume  \\\n",
       "Date                                                                    \n",
       "2014-01-02  555.680008  557.029999  552.020004  553.129990   58671200   \n",
       "2014-01-03  552.860023  553.699989  540.429993  540.980019   98116900   \n",
       "2014-01-06  537.450005  546.800018  533.599983  543.929993  103152700   \n",
       "2014-01-07  544.320015  545.959999  537.919975  540.040024   79302300   \n",
       "2014-01-08  538.809982  545.559990  538.689980  543.460022   64632400   \n",
       "2014-01-09  546.800018  546.859993  535.349983  536.519997   69787200   \n",
       "2014-01-10  539.829979  540.799988  531.109993  532.939995   76244000   \n",
       "2014-01-13  529.910019  542.500000  529.880005  535.730019   94623200   \n",
       "2014-01-14  538.220009  546.730003  537.659996  546.390022   83140400   \n",
       "2014-01-15  553.520012  560.200005  551.659996  557.359993   97909700   \n",
       "2014-01-16  554.900017  556.850021  551.680023  554.250015   57319500   \n",
       "2014-01-17  551.480019  552.069992  539.899994  540.669998  106684900   \n",
       "2014-01-21  540.990005  550.070000  540.420006  549.069977   82131700   \n",
       "2014-01-22  550.910019  557.289978  547.809975  551.509979   94996300   \n",
       "2014-01-23  549.940010  556.500000  544.810013  556.179993  100809800   \n",
       "2014-01-24  554.000023  555.619980  544.749985  546.070015  107338700   \n",
       "2014-01-27  550.070000  554.799988  545.750008  550.500023  138719700   \n",
       "2014-01-28  508.760002  514.999985  502.070023  506.499977  266380800   \n",
       "2014-01-29  503.950012  507.370010  498.620010  500.749992  125702500   \n",
       "2014-01-30  502.539993  506.499977  496.700020  499.779984  169625400   \n",
       "2014-01-31  495.179985  501.529984  493.549988  500.599976  116199300   \n",
       "\n",
       "            Adj Close  \n",
       "Date                   \n",
       "2014-01-02  74.437252  \n",
       "2014-01-03  72.802175  \n",
       "2014-01-06  73.199166  \n",
       "2014-01-07  72.675675  \n",
       "2014-01-08  73.135920  \n",
       "2014-01-09  72.201969  \n",
       "2014-01-10  71.720191  \n",
       "2014-01-13  72.095658  \n",
       "2014-01-14  73.530224  \n",
       "2014-01-15  75.006503  \n",
       "2014-01-16  74.587979  \n",
       "2014-01-17  72.760454  \n",
       "2014-01-21  73.890878  \n",
       "2014-01-22  74.219240  \n",
       "2014-01-23  74.847705  \n",
       "2014-01-24  73.487159  \n",
       "2014-01-27  74.083325  \n",
       "2014-01-28  68.162036  \n",
       "2014-01-29  67.388235  \n",
       "2014-01-30  67.257696  \n",
       "2014-01-31  67.368046  "
      ]
     },
     "execution_count": 18,
     "metadata": {},
     "output_type": "execute_result"
    }
   ],
   "source": [
    "aapl['2014-01']"
   ]
  },
  {
   "cell_type": "code",
   "execution_count": 20,
   "metadata": {
    "scrolled": true
   },
   "outputs": [
    {
     "data": {
      "text/plain": [
       "<function matplotlib.pyplot.show>"
      ]
     },
     "execution_count": 20,
     "metadata": {},
     "output_type": "execute_result"
    },
    {
     "data": {
      "image/png": "[encoded data removed]",
      "text/plain": [
       "<matplotlib.figure.Figure at 0x11a811a90>"
      ]
     },
     "metadata": {},
     "output_type": "display_data"
    }
   ],
   "source": [
    "plt\n",
    "plt.plot(aapl['2014-02-03':'2014-05-07'])\n",
    "plt.show"
   ]
  },
  {
   "cell_type": "code",
   "execution_count": 27,
   "metadata": {
    "scrolled": true
   },
   "outputs": [
    {
     "data": {
      "text/html": [
       "<div>\n",
       "<table border=\"1\" class=\"dataframe\">\n",
       "  <thead>\n",
       "    <tr style=\"text-align: right;\">\n",
       "      <th></th>\n",
       "      <th>Volume</th>\n",
       "      <th>Adj Close</th>\n",
       "    </tr>\n",
       "    <tr>\n",
       "      <th>Date</th>\n",
       "      <th></th>\n",
       "      <th></th>\n",
       "    </tr>\n",
       "  </thead>\n",
       "  <tbody>\n",
       "    <tr>\n",
       "      <th>2012-02-06</th>\n",
       "      <td>62353200</td>\n",
       "      <td>60.372361</td>\n",
       "    </tr>\n",
       "    <tr>\n",
       "      <th>2012-02-07</th>\n",
       "      <td>79055900</td>\n",
       "      <td>61.004754</td>\n",
       "    </tr>\n",
       "    <tr>\n",
       "      <th>2012-02-08</th>\n",
       "      <td>101972500</td>\n",
       "      <td>62.026207</td>\n",
       "    </tr>\n",
       "    <tr>\n",
       "      <th>2012-02-09</th>\n",
       "      <td>221053700</td>\n",
       "      <td>64.171905</td>\n",
       "    </tr>\n",
       "    <tr>\n",
       "      <th>2012-02-10</th>\n",
       "      <td>157825500</td>\n",
       "      <td>64.204434</td>\n",
       "    </tr>\n",
       "    <tr>\n",
       "      <th>2012-02-13</th>\n",
       "      <td>129304000</td>\n",
       "      <td>65.398951</td>\n",
       "    </tr>\n",
       "    <tr>\n",
       "      <th>2012-02-14</th>\n",
       "      <td>115099600</td>\n",
       "      <td>66.291579</td>\n",
       "    </tr>\n",
       "    <tr>\n",
       "      <th>2012-02-15</th>\n",
       "      <td>376530000</td>\n",
       "      <td>64.757447</td>\n",
       "    </tr>\n",
       "    <tr>\n",
       "      <th>2012-02-16</th>\n",
       "      <td>236138000</td>\n",
       "      <td>65.348200</td>\n",
       "    </tr>\n",
       "    <tr>\n",
       "      <th>2012-02-17</th>\n",
       "      <td>133951300</td>\n",
       "      <td>65.336491</td>\n",
       "    </tr>\n",
       "    <tr>\n",
       "      <th>2012-02-21</th>\n",
       "      <td>151398800</td>\n",
       "      <td>66.992936</td>\n",
       "    </tr>\n",
       "    <tr>\n",
       "      <th>2012-02-22</th>\n",
       "      <td>120825600</td>\n",
       "      <td>66.757413</td>\n",
       "    </tr>\n",
       "    <tr>\n",
       "      <th>2012-02-23</th>\n",
       "      <td>142006900</td>\n",
       "      <td>67.193317</td>\n",
       "    </tr>\n",
       "  </tbody>\n",
       "</table>\n",
       "</div>"
      ],
      "text/plain": [
       "               Volume  Adj Close\n",
       "Date                            \n",
       "2012-02-06   62353200  60.372361\n",
       "2012-02-07   79055900  61.004754\n",
       "2012-02-08  101972500  62.026207\n",
       "2012-02-09  221053700  64.171905\n",
       "2012-02-10  157825500  64.204434\n",
       "2012-02-13  129304000  65.398951\n",
       "2012-02-14  115099600  66.291579\n",
       "2012-02-15  376530000  64.757447\n",
       "2012-02-16  236138000  65.348200\n",
       "2012-02-17  133951300  65.336491\n",
       "2012-02-21  151398800  66.992936\n",
       "2012-02-22  120825600  66.757413\n",
       "2012-02-23  142006900  67.193317"
      ]
     },
     "execution_count": 27,
     "metadata": {},
     "output_type": "execute_result"
    }
   ],
   "source": [
    "aapl['2012-02-05':'2012-02-23'][['Volume','Adj Close']]"
   ]
  },
  {
   "cell_type": "code",
   "execution_count": 28,
   "metadata": {
    "scrolled": true
   },
   "outputs": [
    {
     "data": {
      "text/plain": [
       "pandas.core.frame.DataFrame"
      ]
     },
     "execution_count": 28,
     "metadata": {},
     "output_type": "execute_result"
    }
   ],
   "source": [
    "x=aapl['2012-02-05':'2012-02-23'][['Volume','Adj Close']]\n",
    "type(x)"
   ]
  },
  {
   "cell_type": "code",
   "execution_count": 33,
   "metadata": {
    "scrolled": false
   },
   "outputs": [
    {
     "data": {
      "image/png": "[encoded data removed]",
      "text/plain": [
       "<matplotlib.figure.Figure at 0x11ac50d10>"
      ]
     },
     "metadata": {},
     "output_type": "display_data"
    }
   ],
   "source": [
    "Open=aapl['2012-02-05':'2012-02-23']['Open']\n",
    "Close = aapl['2012-02-05':'2012-02-23']['Close']\n",
    "Vol= aapl['2012-02-05':'2012-02-23']['Volume']\n",
    "                                     \n",
    "                                     \n",
    "plt.plot(Open)\n",
    "plt.plot(Close)\n",
    "plt.show()\n",
    "                                     "
   ]
  },
  {
   "cell_type": "code",
   "execution_count": 35,
   "metadata": {
    "scrolled": false
   },
   "outputs": [
    {
     "data": {
      "text/html": [
       "<div>\n",
       "<table border=\"1\" class=\"dataframe\">\n",
       "  <thead>\n",
       "    <tr style=\"text-align: right;\">\n",
       "      <th></th>\n",
       "      <th>Volume</th>\n",
       "      <th>Adj Close</th>\n",
       "    </tr>\n",
       "    <tr>\n",
       "      <th>Date</th>\n",
       "      <th></th>\n",
       "      <th></th>\n",
       "    </tr>\n",
       "  </thead>\n",
       "  <tbody>\n",
       "    <tr>\n",
       "      <th>2012-02-06</th>\n",
       "      <td>NaN</td>\n",
       "      <td>NaN</td>\n",
       "    </tr>\n",
       "    <tr>\n",
       "      <th>2012-02-07</th>\n",
       "      <td>1.0</td>\n",
       "      <td>1.0</td>\n",
       "    </tr>\n",
       "    <tr>\n",
       "      <th>2012-02-08</th>\n",
       "      <td>1.0</td>\n",
       "      <td>1.0</td>\n",
       "    </tr>\n",
       "    <tr>\n",
       "      <th>2012-02-09</th>\n",
       "      <td>1.0</td>\n",
       "      <td>1.0</td>\n",
       "    </tr>\n",
       "    <tr>\n",
       "      <th>2012-02-10</th>\n",
       "      <td>1.0</td>\n",
       "      <td>1.0</td>\n",
       "    </tr>\n",
       "    <tr>\n",
       "      <th>2012-02-13</th>\n",
       "      <td>1.0</td>\n",
       "      <td>1.0</td>\n",
       "    </tr>\n",
       "    <tr>\n",
       "      <th>2012-02-14</th>\n",
       "      <td>1.0</td>\n",
       "      <td>1.0</td>\n",
       "    </tr>\n",
       "    <tr>\n",
       "      <th>2012-02-15</th>\n",
       "      <td>1.0</td>\n",
       "      <td>1.0</td>\n",
       "    </tr>\n",
       "    <tr>\n",
       "      <th>2012-02-16</th>\n",
       "      <td>1.0</td>\n",
       "      <td>1.0</td>\n",
       "    </tr>\n",
       "    <tr>\n",
       "      <th>2012-02-17</th>\n",
       "      <td>NaN</td>\n",
       "      <td>NaN</td>\n",
       "    </tr>\n",
       "  </tbody>\n",
       "</table>\n",
       "</div>"
      ],
      "text/plain": [
       "            Volume  Adj Close\n",
       "Date                         \n",
       "2012-02-06     NaN        NaN\n",
       "2012-02-07     1.0        1.0\n",
       "2012-02-08     1.0        1.0\n",
       "2012-02-09     1.0        1.0\n",
       "2012-02-10     1.0        1.0\n",
       "2012-02-13     1.0        1.0\n",
       "2012-02-14     1.0        1.0\n",
       "2012-02-15     1.0        1.0\n",
       "2012-02-16     1.0        1.0\n",
       "2012-02-17     NaN        NaN"
      ]
     },
     "execution_count": 35,
     "metadata": {},
     "output_type": "execute_result"
    }
   ],
   "source": [
    "x.ix[1:10]/x.ix[0:9]"
   ]
  },
  {
   "cell_type": "markdown",
   "metadata": {},
   "source": [
    "Write a program that visualizes a candele stick plot from aapl or msft"
   ]
  },
  {
   "cell_type": "markdown",
   "metadata": {},
   "source": [
    "combining the option prices  #2"
   ]
  },
  {
   "cell_type": "code",
   "execution_count": 17,
   "metadata": {},
   "outputs": [
    {
     "name": "stdout",
     "output_type": "stream",
     "text": [
      "0 Not Weird\n",
      "1 Weird\n",
      "2 Not Weird\n",
      "3 Weird\n",
      "4 Not Weird\n",
      "5 Weird\n",
      "6 Not Weird\n",
      "7 Weird\n",
      "8 Not Weird\n",
      "9 Weird\n",
      "10 Not Weird\n",
      "11 Weird\n",
      "12 Not Weird\n",
      "13 Weird\n",
      "14 Not Weird\n",
      "15 Weird\n",
      "16 Not Weird\n",
      "17 Weird\n",
      "18 Not Weird\n",
      "19 Weird\n",
      "20 Not Weird\n",
      "21 Weird\n",
      "22 Not Weird\n",
      "23 Weird\n",
      "24 Not Weird\n",
      "25 Weird\n",
      "26 Not Weird\n",
      "27 Weird\n",
      "28 Not Weird\n",
      "29 Weird\n",
      "30 Not Weird\n",
      "31 Weird\n",
      "32 Not Weird\n",
      "33 Weird\n",
      "34 Not Weird\n",
      "35 Weird\n",
      "36 Not Weird\n",
      "37 Weird\n",
      "38 Not Weird\n",
      "39 Weird\n",
      "40 Not Weird\n",
      "41 Weird\n",
      "42 Not Weird\n",
      "43 Weird\n",
      "44 Not Weird\n",
      "45 Weird\n",
      "46 Not Weird\n",
      "47 Weird\n",
      "48 Not Weird\n",
      "49 Weird\n",
      "50 Not Weird\n",
      "51 Weird\n",
      "52 Not Weird\n",
      "53 Weird\n",
      "54 Not Weird\n",
      "55 Weird\n",
      "56 Not Weird\n",
      "57 Weird\n",
      "58 Not Weird\n",
      "59 Weird\n",
      "60 Not Weird\n",
      "61 Weird\n",
      "62 Not Weird\n",
      "63 Weird\n",
      "64 Not Weird\n",
      "65 Weird\n",
      "66 Not Weird\n",
      "67 Weird\n",
      "68 Not Weird\n",
      "69 Weird\n",
      "70 Not Weird\n",
      "71 Weird\n",
      "72 Not Weird\n",
      "73 Weird\n",
      "74 Not Weird\n",
      "75 Weird\n",
      "76 Not Weird\n",
      "77 Weird\n",
      "78 Not Weird\n",
      "79 Weird\n",
      "80 Not Weird\n",
      "81 Weird\n",
      "82 Not Weird\n",
      "83 Weird\n",
      "84 Not Weird\n",
      "85 Weird\n",
      "86 Not Weird\n",
      "87 Weird\n",
      "88 Not Weird\n",
      "89 Weird\n",
      "90 Not Weird\n",
      "91 Weird\n",
      "92 Not Weird\n",
      "93 Weird\n",
      "94 Not Weird\n",
      "95 Weird\n",
      "96 Not Weird\n",
      "97 Weird\n",
      "98 Not Weird\n",
      "99 Weird\n"
     ]
    }
   ],
   "source": [
    "\n",
    "\n",
    "for i in range (0,100):\n",
    "    if (i%2) == 0 :\n",
    "        print i , 'Not Weird'\n",
    "        \n",
    "    else:\n",
    "        print i,'Weird'\n",
    "       "
   ]
  },
  {
   "cell_type": "code",
   "execution_count": null,
   "metadata": {
    "collapsed": true
   },
   "outputs": [],
   "source": []
  }
 ],
 "metadata": {
  "anaconda-cloud": {},
  "kernelspec": {
   "display_name": "Python 3",
   "language": "python",
   "name": "python3"
  },
  "language_info": {
   "codemirror_mode": {
    "name": "ipython",
    "version": 3
   },
   "file_extension": ".py",
   "mimetype": "text/x-python",
   "name": "python",
   "nbconvert_exporter": "python",
   "pygments_lexer": "ipython3",
   "version": "3.6.2"
  }
 },
 "nbformat": 4,
 "nbformat_minor": 1
}
